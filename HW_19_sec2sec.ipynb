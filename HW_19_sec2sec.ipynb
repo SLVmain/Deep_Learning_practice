{
  "nbformat": 4,
  "nbformat_minor": 0,
  "metadata": {
    "colab": {
      "name": "HW_19_sec2sec.ipynb",
      "provenance": [],
      "collapsed_sections": [],
      "machine_shape": "hm",
      "include_colab_link": true
    },
    "kernelspec": {
      "name": "python3",
      "display_name": "Python 3"
    },
    "language_info": {
      "name": "python"
    },
    "accelerator": "GPU"
  },
  "cells": [
    {
      "cell_type": "markdown",
      "metadata": {
        "id": "view-in-github",
        "colab_type": "text"
      },
      "source": [
        "<a href=\"https://colab.research.google.com/github/SLVmain/Deep_Learning_practice/blob/main/HW_19_sec2sec.ipynb\" target=\"_parent\"><img src=\"https://colab.research.google.com/assets/colab-badge.svg\" alt=\"Open In Colab\"/></a>"
      ]
    },
    {
      "cell_type": "markdown",
      "metadata": {
        "id": "xhGFfIoFzgSc"
      },
      "source": [
        "# Добро пожаловать на задание уровня Pro.\n",
        "Необходимо написать чат-бота, используя модель seq2seq.\n",
        "\n",
        "Ссылка на базу https://storage.yandexcloud.net/aiueducation/Content/advanced/l3/9kdialogs.txt\n",
        "\n",
        "База содержит примеры пар: вопрос-ответ. По аналогии с моделью преводчика (англ - рус), создайте чат-бота (вопрос - ответ)"
      ]
    },
    {
      "cell_type": "code",
      "source": [
        "# Подключим модуль для загрузки файлов в colab\n",
        "from google.colab import files\n",
        "\n",
        "# Подключим модуль numpy для работы с массивами\n",
        "import numpy as np\n",
        "\n",
        "# Подгрузим модели кераса\n",
        "from tensorflow.keras.models import Model, load_model\n",
        "\n",
        "# Подключим нужные слои\n",
        "from tensorflow.keras.layers import Dense, Embedding, LSTM, Input\n",
        "\n",
        "# Поключим оптимайзеры\n",
        "from tensorflow.keras.optimizers import RMSprop, Adadelta\n",
        "\n",
        "# Подключим метод ограничения последовательности заданной длиной\n",
        "from tensorflow.keras.preprocessing.sequence import pad_sequences\n",
        "\n",
        "# Подключим токенайзер\n",
        "from tensorflow.keras.preprocessing.text import Tokenizer\n",
        "\n",
        "# Подключим модуль для one hot кодировки\n",
        "from tensorflow.keras import utils\n",
        "\n",
        "# Подключим визуализацию графа модели\n",
        "from tensorflow.keras.utils import plot_model\n",
        "\n",
        "# Подключим модуль для работы с yaml - файлами\n",
        "import yaml\n",
        "\n",
        "import gdown"
      ],
      "metadata": {
        "id": "7vC64ctRVhT2"
      },
      "execution_count": null,
      "outputs": []
    },
    {
      "cell_type": "code",
      "source": [
        "gdown.download('https://storage.yandexcloud.net/aiueducation/Content/advanced/l3/9kdialogs.txt', None, quiet=True)"
      ],
      "metadata": {
        "colab": {
          "base_uri": "https://localhost:8080/",
          "height": 35
        },
        "id": "Qp9F7_DfHLyi",
        "outputId": "a01655e3-5d3f-48aa-8de1-033b120b6bc1"
      },
      "execution_count": null,
      "outputs": [
        {
          "output_type": "execute_result",
          "data": {
            "text/plain": [
              "'9kdialogs.txt'"
            ],
            "application/vnd.google.colaboratory.intrinsic+json": {
              "type": "string"
            }
          },
          "metadata": {},
          "execution_count": 2
        }
      ]
    },
    {
      "cell_type": "code",
      "source": [
        "with open(\"9kdialogs.txt\", 'r', encoding='utf-8') as f: # Открываем файл словаря в режиме чтения\n",
        "    lines = f.read().split('\\n')                 # Читаем весь файл, режем на строки\n",
        "\n",
        "# Цикл по строкам\n",
        "lines_copy = lines.copy()\n",
        "for i,line in enumerate(lines):\n",
        "    if line == '':\n",
        "      lines_copy.remove(line)"
      ],
      "metadata": {
        "id": "rRSkVBOHMLjd"
      },
      "execution_count": null,
      "outputs": []
    },
    {
      "cell_type": "code",
      "source": [
        "print(len(lines_copy))"
      ],
      "metadata": {
        "colab": {
          "base_uri": "https://localhost:8080/"
        },
        "id": "LUvUrYO2O4Q_",
        "outputId": "08877569-6aa6-4221-9112-14e0478e7c74"
      },
      "execution_count": null,
      "outputs": [
        {
          "output_type": "stream",
          "name": "stdout",
          "text": [
            "19828\n"
          ]
        }
      ]
    },
    {
      "cell_type": "code",
      "source": [
        "#print(questions[0].replace('- - ', ''))"
      ],
      "metadata": {
        "colab": {
          "base_uri": "https://localhost:8080/"
        },
        "id": "l_QFLjGeZ_L4",
        "outputId": "99dcd56c-9c86-4bed-f19c-4a182efbfb1c"
      },
      "execution_count": null,
      "outputs": [
        {
          "output_type": "stream",
          "name": "stdout",
          "text": [
            "﻿Как вы можете быть таким уверенным?\n"
          ]
        }
      ]
    },
    {
      "cell_type": "code",
      "source": [
        "def my_replacer(s):  \n",
        "\n",
        "    ''' Функция для удаления пробелов перед знаками препинания\n",
        "\n",
        "        Args: строка или список строк\n",
        "\n",
        "        Returns: строка или список строк\n",
        "    '''\n",
        "\n",
        "    if isinstance(s,str): # Если получили строку\n",
        "\n",
        "        # Убираем перед знаками препинания пробел и возвращаем\n",
        "        return s.replace(' .','.').replace(' ,',',').replace(' !','!').replace(' ?','?').replace('- - ', '').strip(' - -').strip('- - ').strip('-').strip('- -').lower()\n",
        "\n",
        "    if isinstance(s,list): # Если получили список\n",
        "        ou=[]              # Заготовим пустой список\n",
        "\n",
        "        for l in s:        # Цикл по строкам из списка\n",
        "            ou.append(l.replace(' .','.').replace(' ,',',').replace(' !','!').replace(' ?','?').replace('- - ', '').strip(' - -').strip('- - ').strip('-').strip('- -').lower()) # Убираем перед знаками препинания пробел и возвращаем\n",
        "\n",
        "        # Вернем список строк\n",
        "        return ou    "
      ],
      "metadata": {
        "id": "RDbKr5qwTrwL"
      },
      "execution_count": null,
      "outputs": []
    },
    {
      "cell_type": "code",
      "source": [
        "questions = [] # Переменная для списка входных фраз\n",
        "answers = []   # Переменная для списка ответных фраз                              \n",
        "for i in range(0, len(lines_copy), 2):\n",
        "  try:\n",
        "      questions.append(my_replacer(lines_copy[i]))\n",
        "      answers.append(my_replacer(lines_copy[i+1]))\n",
        "  except:\n",
        "      continue                                    "
      ],
      "metadata": {
        "id": "WS9VoblkN62y"
      },
      "execution_count": null,
      "outputs": []
    },
    {
      "cell_type": "code",
      "source": [
        "# Добавим в каждую ответную фразу теги  <START> и <END>\n",
        "answers = ['<START> ' + s + ' <END>' for s in answers]\n",
        "\n",
        "# Выведем обновленные данные на экран\n",
        "print('Вопрос : {}'.format(questions[111])) # Пример входной фразы\n",
        "print('Ответ : {}'.format(answers[111]))    # Пример ответной фразы"
      ],
      "metadata": {
        "colab": {
          "base_uri": "https://localhost:8080/"
        },
        "id": "SNrO_h7JVDeL",
        "outputId": "187783ab-25f3-43ef-df40-d27e24218f4f"
      },
      "execution_count": null,
      "outputs": [
        {
          "output_type": "stream",
          "name": "stdout",
          "text": [
            "Вопрос : больно?\n",
            "Ответ : <START> немного. <END>\n"
          ]
        }
      ]
    },
    {
      "cell_type": "code",
      "source": [
        "for i in range(0,10):\n",
        "  print(i, questions[i], answers[i])"
      ],
      "metadata": {
        "colab": {
          "base_uri": "https://localhost:8080/"
        },
        "id": "AbsOK362Sxe-",
        "outputId": "49099ce1-9b07-45eb-d04d-245f33a331eb"
      },
      "execution_count": null,
      "outputs": [
        {
          "output_type": "stream",
          "name": "stdout",
          "text": [
            "0 ﻿как вы можете быть таким уверенным? <START> элементарно. <END>\n",
            "1 а что делать будем? <START> ждать. <END>\n",
            "2 надеюсь, не до первой звезды? <START> я тоже на это надеюсь. <END>\n",
            "3 за что? <START> вы знаете за что! <END>\n",
            "4 ты что-нибудь понимаешь? <START> абсолютно ничего. <END>\n",
            "5 обсудим это завтра, ладно? <START> хорошо. <END>\n",
            "6 кто услышит? <START> кто-кто..ну твой следователь. <END>\n",
            "7 что - если? <START> так, ничего. <END>\n",
            "8 ну я пойду? <START> а? иди, иди. постой... <END>\n",
            "9 может, стоило ее предупредить? <START> может. <END>\n"
          ]
        }
      ]
    },
    {
      "cell_type": "code",
      "source": [
        "len(questions) == len(answers)"
      ],
      "metadata": {
        "colab": {
          "base_uri": "https://localhost:8080/"
        },
        "id": "xw08H3rQVPlw",
        "outputId": "41b3bac7-992a-4193-899d-3a7bb7fe9c6b"
      },
      "execution_count": null,
      "outputs": [
        {
          "output_type": "execute_result",
          "data": {
            "text/plain": [
              "True"
            ]
          },
          "metadata": {},
          "execution_count": 26
        }
      ]
    },
    {
      "cell_type": "code",
      "source": [
        "# Создадим токенайзер \n",
        "tokenizer = Tokenizer(oov_token='unknown', filters='!\"#$%&()*+,-./:;<=>?@[\\\\]^_`{|}~\\t\\n',split=' ') \n",
        "\n",
        "# Загружаем в токенизатор список фраз для сборки словаря частотности\n",
        "tokenizer.fit_on_texts(questions + answers)         \n",
        "\n",
        "# Список с cодержимым словаря\n",
        "vocabularyItems = list(tokenizer.word_index.items())    \n",
        "\n",
        "# Размер словаря\n",
        "vocabularySize = len(vocabularyItems)+1        \n",
        "\n",
        "# Выведем фрагмент и размер словаря\n",
        "print( 'Фрагмент словаря : {}'.format(vocabularyItems[:50]))       \n",
        "print( 'Размер словаря : {}'.format(vocabularySize))         "
      ],
      "metadata": {
        "colab": {
          "base_uri": "https://localhost:8080/"
        },
        "id": "P2u4hqUUVWrg",
        "outputId": "b9a372b6-20b7-4289-bbd0-3bcf975e948d"
      },
      "execution_count": null,
      "outputs": [
        {
          "output_type": "stream",
          "name": "stdout",
          "text": [
            "Фрагмент словаря : [('unknown', 1), ('start', 2), ('end', 3), ('что', 4), ('не', 5), ('ты', 6), ('а', 7), ('я', 8), ('в', 9), ('да', 10), ('это', 11), ('вы', 12), ('как', 13), ('нет', 14), ('и', 15), ('ну', 16), ('где', 17), ('на', 18), ('у', 19), ('с', 20), ('кто', 21), ('так', 22), ('же', 23), ('он', 24), ('то', 25), ('все', 26), ('мне', 27), ('куда', 28), ('чего', 29), ('там', 30), ('меня', 31), ('есть', 32), ('тебя', 33), ('вас', 34), ('за', 35), ('тебе', 36), ('еще', 37), ('знаю', 38), ('вам', 39), ('мы', 40), ('почему', 41), ('ничего', 42), ('здесь', 43), ('может', 44), ('она', 45), ('конечно', 46), ('можно', 47), ('чем', 48), ('его', 49), ('зачем', 50)]\n",
            "Размер словаря : 11408\n"
          ]
        }
      ]
    },
    {
      "cell_type": "code",
      "source": [
        "# Разбиваем текст входных фраз на последовательности индексов\n",
        "tokenizedQuestions = tokenizer.texts_to_sequences(questions)\n",
        "\n",
        "# Уточняем длину самой длинной фразы\n",
        "maxLenQuestions = max([ len(x) for x in tokenizedQuestions])\n",
        "\n",
        "# Делаем последовательности одной длины, заполняя нулями более короткие фразы\n",
        "paddedQuestions = pad_sequences(tokenizedQuestions, maxlen=maxLenQuestions, padding='post')\n",
        "\n",
        "# Предподготавливаем данные для входа в сеть, переводим в numpy массив\n",
        "encoderForInput = np.array(paddedQuestions)        \n",
        "\n",
        "# Выведем на экран\n",
        "print('Пример входной фразы                         : {}'.format(questions[10]))         \n",
        "print('Пример кодированной входной фразу            : {}'.format(encoderForInput[10]))  \n",
        "print('Размеры закодированного массива входных фраз : {}'.format(encoderForInput.shape))  \n",
        "print('Установленная длина входных фраз             : {}'.format(maxLenQuestions))        "
      ],
      "metadata": {
        "colab": {
          "base_uri": "https://localhost:8080/"
        },
        "id": "5tbnOnivWOtw",
        "outputId": "7e0a8b6b-1400-43d5-9fae-aba6167eb4f9"
      },
      "execution_count": null,
      "outputs": [
        {
          "output_type": "stream",
          "name": "stdout",
          "text": [
            "Пример входной фразы                         : а вы тут, что ли, не одна живете?\n",
            "Пример кодированной входной фразу            : [  7  12  60   4  53   5 264 946   0   0   0]\n",
            "Размеры закодированного массива входных фраз : (9914, 11)\n",
            "Установленная длина входных фраз             : 11\n"
          ]
        }
      ]
    },
    {
      "cell_type": "code",
      "source": [
        "# Разбиваем текст ответных фраз на последовательности индексов\n",
        "tokenizedAnswers = tokenizer.texts_to_sequences(answers) \n",
        "\n",
        "# Уточняем длину самого длинного ответа\n",
        "maxLenAnswers = max([len(x) for x in tokenizedAnswers])\n",
        "\n",
        "# Делаем последовательности одной длины, заполняя нулями более ответы\n",
        "paddedAnswers = pad_sequences(tokenizedAnswers, maxlen=maxLenAnswers, padding='post')\n",
        "\n",
        "# Предподготавливаем данные для входа в сеть, переводим в numpy массив\n",
        "decoderForInput = np.array(paddedAnswers)               \n",
        "\n",
        "# Выведем на экран\n",
        "print('Пример оригинального ответа на вход: {}'.format(answers[100]))                         \n",
        "print('Пример кодированного ответа на вход : {}'.format(decoderForInput[100][:30]))           \n",
        "print('Размеры кодированного массива ответов на вход : {}'.format(decoderForInput.shape))     \n",
        "print('Установленная длина ответов на вход : {}'.format(maxLenAnswers))        "
      ],
      "metadata": {
        "colab": {
          "base_uri": "https://localhost:8080/"
        },
        "id": "rKe0q8wabf_h",
        "outputId": "ca3753e4-a953-4467-f604-6fafe3b52eab"
      },
      "execution_count": null,
      "outputs": [
        {
          "output_type": "stream",
          "name": "stdout",
          "text": [
            "Пример оригинального ответа на вход: <START> да, вроде, ничего особенного. <END>\n",
            "Пример кодированного ответа на вход : [  2  10 172  42 481   3   0   0   0   0   0   0   0   0]\n",
            "Размеры кодированного массива ответов на вход : (9914, 14)\n",
            "Установленная длина ответов на вход : 14\n"
          ]
        }
      ]
    },
    {
      "cell_type": "code",
      "source": [
        "# Разбиваем текст ответов на последовательности индексов\n",
        "tokenizedAnswers = tokenizer.texts_to_sequences(answers) \n",
        "\n",
        "for i in range(len(tokenizedAnswers)) :                  # Для разбитых на последовательности ответов\n",
        "    tokenizedAnswers[i] = tokenizedAnswers[i][1:]          # Избавляемся от тега <START>\n",
        "\n",
        "# Делаем последовательности одной длины, заполняя нулями более короткие ответы\n",
        "paddedAnswers = pad_sequences(tokenizedAnswers, maxlen=maxLenAnswers , padding='post') \n",
        "\n",
        "# И сохраняем в виде массива numpy\n",
        "decoderForOutput = np.array(paddedAnswers)     "
      ],
      "metadata": {
        "id": "zfjFkIhSblou"
      },
      "execution_count": null,
      "outputs": []
    },
    {
      "cell_type": "code",
      "source": [
        "# Выведем на экран\n",
        "\n",
        "print('Пример кодированного ответа на вход : {}'.format(decoderForInput[100][:21]))   \n",
        "print('Пример кодированного ответа на выход : {}'.format(decoderForOutput[100][:21]))\n",
        "print('Размеры кодированного массива ответов на выход : {}'.format(decoderForOutput.shape))  \n",
        "print('Установленная длина вопросов на выход : {}'.format(maxLenAnswers))                    "
      ],
      "metadata": {
        "colab": {
          "base_uri": "https://localhost:8080/"
        },
        "id": "m7JovxZZbqdN",
        "outputId": "33aca04a-e3bf-4801-8368-257da1734d1e"
      },
      "execution_count": null,
      "outputs": [
        {
          "output_type": "stream",
          "name": "stdout",
          "text": [
            "Пример кодированного ответа на вход : [  2  10 172  42 481   3   0   0   0   0   0   0   0   0]\n",
            "Пример кодированного ответа на выход : [ 10 172  42 481   3   0   0   0   0   0   0   0   0   0]\n",
            "Размеры кодированного массива ответов на выход : (9914, 14)\n",
            "Установленная длина вопросов на выход : 14\n"
          ]
        }
      ]
    },
    {
      "cell_type": "code",
      "metadata": {
        "id": "qDNMte7cns1A"
      },
      "source": [
        "# Создадим энкодер \n",
        "\n",
        "encoderInputs = Input(shape=(None , ))                                             # Добавим входной слой\n",
        "encoderEmbedding = Embedding(vocabularySize, 200 , mask_zero=True)(encoderInputs)  # Добавим эмбеддинг\n",
        "encoderOutputs, state_h , state_c = LSTM(200, return_state=True)(encoderEmbedding) # Добавим LSTM\n",
        "encoderStates = [state_h, state_c]                                                 # Соберем выходы lstm  в список    "
      ],
      "execution_count": null,
      "outputs": []
    },
    {
      "cell_type": "code",
      "metadata": {
        "id": "0y9Y9ZqrnwLu"
      },
      "source": [
        "# Создадим декодер \n",
        "\n",
        "decoderInputs = Input(shape=(None, ))                                                # Добавим входной слой\n",
        "decoderEmbedding = Embedding(vocabularySize, 200, mask_zero=True) (decoderInputs)    # Добавим эмбеддинг\n",
        "decoderLSTM = LSTM(200, return_state=True, return_sequences=True)                    # Создадим LSTM слой\n",
        "decoderOutputs , _ , _ = decoderLSTM (decoderEmbedding, initial_state=encoderStates) # Прогоним выход embedding через LSTM\n",
        "decoderDense = Dense(vocabularySize, activation='softmax')                           # Создадим dense слой\n",
        "output = decoderDense (decoderOutputs)                                               # Прогоним  выход LSTM через DENSE"
      ],
      "execution_count": null,
      "outputs": []
    },
    {
      "cell_type": "code",
      "metadata": {
        "id": "-nUYagRLnwko"
      },
      "source": [
        "# Собираем модель\n",
        "\n",
        "model = Model([encoderInputs, decoderInputs], output)"
      ],
      "execution_count": null,
      "outputs": []
    },
    {
      "cell_type": "code",
      "metadata": {
        "id": "FLDHVdcIoltf"
      },
      "source": [
        "# Компилиуем модель\n",
        "\n",
        "model.compile(optimizer=RMSprop(), loss='sparse_categorical_crossentropy')"
      ],
      "execution_count": null,
      "outputs": []
    },
    {
      "cell_type": "code",
      "metadata": {
        "id": "usHiPpGzojZ9",
        "colab": {
          "base_uri": "https://localhost:8080/"
        },
        "outputId": "44344d88-4d03-4b50-e0df-65bf8449d6c0"
      },
      "source": [
        "# Выведем на экран информацию о построенной модели нейросети\n",
        "\n",
        "print(model.summary())  "
      ],
      "execution_count": null,
      "outputs": [
        {
          "output_type": "stream",
          "name": "stdout",
          "text": [
            "Model: \"model_4\"\n",
            "__________________________________________________________________________________________________\n",
            " Layer (type)                   Output Shape         Param #     Connected to                     \n",
            "==================================================================================================\n",
            " input_7 (InputLayer)           [(None, None)]       0           []                               \n",
            "                                                                                                  \n",
            " input_8 (InputLayer)           [(None, None)]       0           []                               \n",
            "                                                                                                  \n",
            " embedding_4 (Embedding)        (None, None, 200)    2281600     ['input_7[0][0]']                \n",
            "                                                                                                  \n",
            " embedding_5 (Embedding)        (None, None, 200)    2281600     ['input_8[0][0]']                \n",
            "                                                                                                  \n",
            " lstm_4 (LSTM)                  [(None, 200),        320800      ['embedding_4[0][0]']            \n",
            "                                 (None, 200),                                                     \n",
            "                                 (None, 200)]                                                     \n",
            "                                                                                                  \n",
            " lstm_5 (LSTM)                  [(None, None, 200),  320800      ['embedding_5[0][0]',            \n",
            "                                 (None, 200),                     'lstm_4[0][1]',                 \n",
            "                                 (None, 200)]                     'lstm_4[0][2]']                 \n",
            "                                                                                                  \n",
            " dense_2 (Dense)                (None, None, 11408)  2293008     ['lstm_5[0][0]']                 \n",
            "                                                                                                  \n",
            "==================================================================================================\n",
            "Total params: 7,497,808\n",
            "Trainable params: 7,497,808\n",
            "Non-trainable params: 0\n",
            "__________________________________________________________________________________________________\n",
            "None\n"
          ]
        }
      ]
    },
    {
      "cell_type": "code",
      "metadata": {
        "id": "HqM1TJgUogeF",
        "colab": {
          "base_uri": "https://localhost:8080/",
          "height": 466
        },
        "outputId": "4e87fff7-ca68-4a8b-9949-ce4f6b1fe0bc"
      },
      "source": [
        "# Построим график для визуализации слоев и связей между ними\n",
        "\n",
        "plot_model(model, to_file='model.png')"
      ],
      "execution_count": null,
      "outputs": [
        {
          "output_type": "execute_result",
          "data": {
            "text/plain": [
              "<IPython.core.display.Image object>"
            ],
            "image/png": "[encoded data removed]"
          },
          "metadata": {},
          "execution_count": 37
        }
      ]
    },
    {
      "cell_type": "markdown",
      "metadata": {
        "id": "UvT72V_0bpCN"
      },
      "source": [
        "Пора обучаться. И не забудем сохранить обученную модель на диске"
      ]
    },
    {
      "cell_type": "code",
      "metadata": {
        "id": "WcT0PuS9nysP",
        "colab": {
          "base_uri": "https://localhost:8080/"
        },
        "outputId": "12848c7e-7de6-4a09-f61e-561311a5b3e9"
      },
      "source": [
        "# Запустим обучение\n",
        "model.fit([encoderForInput , decoderForInput], decoderForOutput, batch_size=256, epochs=30) \n",
        "\n",
        "# Сохраним модель на диске\n",
        "model.save( 'content/model_30epochs(rms).h5' )"
      ],
      "execution_count": null,
      "outputs": [
        {
          "output_type": "stream",
          "name": "stdout",
          "text": [
            "Epoch 1/30\n",
            "39/39 [==============================] - 1s 29ms/step - loss: 0.5652\n",
            "Epoch 2/30\n",
            "39/39 [==============================] - 1s 29ms/step - loss: 0.5506\n",
            "Epoch 3/30\n",
            "39/39 [==============================] - 1s 29ms/step - loss: 0.5358\n",
            "Epoch 4/30\n",
            "39/39 [==============================] - 1s 29ms/step - loss: 0.5213\n",
            "Epoch 5/30\n",
            "39/39 [==============================] - 1s 29ms/step - loss: 0.5064\n",
            "Epoch 6/30\n",
            "39/39 [==============================] - 1s 29ms/step - loss: 0.4924\n",
            "Epoch 7/30\n",
            "39/39 [==============================] - 1s 29ms/step - loss: 0.4785\n",
            "Epoch 8/30\n",
            "39/39 [==============================] - 1s 29ms/step - loss: 0.4650\n",
            "Epoch 9/30\n",
            "39/39 [==============================] - 1s 29ms/step - loss: 0.4517\n",
            "Epoch 10/30\n",
            "39/39 [==============================] - 1s 29ms/step - loss: 0.4375\n",
            "Epoch 11/30\n",
            "39/39 [==============================] - 1s 29ms/step - loss: 0.4259\n",
            "Epoch 12/30\n",
            "39/39 [==============================] - 1s 28ms/step - loss: 0.4121\n",
            "Epoch 13/30\n",
            "39/39 [==============================] - 1s 29ms/step - loss: 0.3998\n",
            "Epoch 14/30\n",
            "39/39 [==============================] - 1s 29ms/step - loss: 0.3889\n",
            "Epoch 15/30\n",
            "39/39 [==============================] - 1s 29ms/step - loss: 0.3755\n",
            "Epoch 16/30\n",
            "39/39 [==============================] - 1s 29ms/step - loss: 0.3635\n",
            "Epoch 17/30\n",
            "39/39 [==============================] - 1s 29ms/step - loss: 0.3524\n",
            "Epoch 18/30\n",
            "39/39 [==============================] - 1s 29ms/step - loss: 0.3413\n",
            "Epoch 19/30\n",
            "39/39 [==============================] - 1s 29ms/step - loss: 0.3299\n",
            "Epoch 20/30\n",
            "39/39 [==============================] - 1s 29ms/step - loss: 0.3192\n",
            "Epoch 21/30\n",
            "39/39 [==============================] - 1s 28ms/step - loss: 0.3091\n",
            "Epoch 22/30\n",
            "39/39 [==============================] - 1s 29ms/step - loss: 0.2982\n",
            "Epoch 23/30\n",
            "39/39 [==============================] - 1s 29ms/step - loss: 0.2885\n",
            "Epoch 24/30\n",
            "39/39 [==============================] - 1s 29ms/step - loss: 0.2788\n",
            "Epoch 25/30\n",
            "39/39 [==============================] - 1s 29ms/step - loss: 0.2698\n",
            "Epoch 26/30\n",
            "39/39 [==============================] - 1s 29ms/step - loss: 0.2596\n",
            "Epoch 27/30\n",
            "39/39 [==============================] - 1s 29ms/step - loss: 0.2510\n",
            "Epoch 28/30\n",
            "39/39 [==============================] - 1s 29ms/step - loss: 0.2421\n",
            "Epoch 29/30\n",
            "39/39 [==============================] - 1s 29ms/step - loss: 0.2342\n",
            "Epoch 30/30\n",
            "39/39 [==============================] - 1s 29ms/step - loss: 0.2251\n"
          ]
        }
      ]
    },
    {
      "cell_type": "code",
      "metadata": {
        "id": "LQpGBXUNvfGC"
      },
      "source": [
        "# Сохраним веса модели\n",
        "model.save_weights('s2s_30epochs.h5')"
      ],
      "execution_count": null,
      "outputs": []
    },
    {
      "cell_type": "code",
      "metadata": {
        "id": "2pbCDz6In033"
      },
      "source": [
        "def makeInferenceModels():\n",
        "\n",
        "    ''' Функция сборки сети для перевода фраз из уже обученных слов\n",
        "\n",
        "        Args: -\n",
        "\n",
        "        Returns: модели энкодера и декодера   \n",
        "    '''    \n",
        "\n",
        "    # Создадим модель кодера, на входе далее будут закодированные вопросы, на выходе состояния state_h, state_c\n",
        "    encoderModel = Model(encoderInputs, encoderStates) \n",
        "\n",
        "    # Создадим модель декодера\n",
        "    decoderStateInput_h = Input(shape=(200 ,)) # Добавим входной слой для state_h\n",
        "    decoderStateInput_c = Input(shape=(200 ,)) # Добавим входной слой для state_c\n",
        "\n",
        "    # Соберем оба inputs вместе и запишем в decoderStatesInputs\n",
        "    decoderStatesInputs = [decoderStateInput_h, decoderStateInput_c] \n",
        "\n",
        "    # Берём ответы, прошедшие через эмбединг, вместе с состояниями и подаём LSTM cлою\n",
        "    decoderOutputs, state_h, state_c = decoderLSTM(decoderEmbedding, initial_state=decoderStatesInputs) \n",
        "    \n",
        "    # LSTM даст нам новые состояния\n",
        "    decoderStates = [state_h, state_c]            \n",
        "    \n",
        "    # И ответы, которые мы пропустим через полносвязный слой с софтмаксом\n",
        "    decoderOutputs = decoderDense(decoderOutputs) \n",
        "\n",
        "    # Определим модель декодера, на входе далее будут раскодированные ответы (decoderForInputs) и состояния\n",
        "    # на выходе предсказываемый ответ и новые состояния\n",
        "    decoderModel = Model([decoderInputs] + decoderStatesInputs, [decoderOutputs] + decoderStates)\n",
        "\n",
        "    # Вернем рабочие модели энкодера и декодера  \n",
        "    return encoderModel , decoderModel"
      ],
      "execution_count": null,
      "outputs": []
    },
    {
      "cell_type": "code",
      "metadata": {
        "id": "fzsCtJfFn261"
      },
      "source": [
        "def strToTokens(sentence: str):      \n",
        "\n",
        "    ''' Функция для удаления пробелов перед знаками препинания\n",
        "\n",
        "        Args: фраза\n",
        "\n",
        "        Returns: список токенов\n",
        "    '''\n",
        "\n",
        "    # Почистим фразу\n",
        "    tmp_sent = my_replacer(sentence)  \n",
        "    \n",
        "    # Приведем предложение к нижнему регистру и разбирает на слова\n",
        "    words = tmp_sent.lower().split()  \n",
        "    \n",
        "    # Создадим список для последовательности токенов/индексов\n",
        "    tokensList = list()               \n",
        "\n",
        "    # Для каждого слова в предложении\n",
        "    for word in words:\n",
        "        \n",
        "        try:\n",
        "            tokensList.append(tokenizer.word_index[word]) # Определяем токенайзером индекс и добавляем в список\n",
        "        except:\n",
        "            pass # Слова нет - просто игнорируем его\n",
        "\n",
        "    # Вернёт входную фразу в виде последовательности индексов\n",
        "    if tokensList:\n",
        "        return pad_sequences([tokensList], maxlen=maxLenQuestions , padding='post')\n",
        "\n",
        "    # Фраза из незнакомых слов - вернем None \n",
        "    return None"
      ],
      "execution_count": null,
      "outputs": []
    },
    {
      "cell_type": "markdown",
      "metadata": {
        "id": "PXtp9Yc1dHWm"
      },
      "source": [
        "Запускаем функцию для построения модели кодера и декодера"
      ]
    },
    {
      "cell_type": "code",
      "metadata": {
        "id": "8FLuVC7XsIGI"
      },
      "source": [
        "encModel , decModel = makeInferenceModels() "
      ],
      "execution_count": null,
      "outputs": []
    },
    {
      "cell_type": "code",
      "metadata": {
        "colab": {
          "base_uri": "https://localhost:8080/"
        },
        "id": "9B9sAeCNM8UQ",
        "outputId": "8ede683b-bd94-480c-b088-cf6df868b26f"
      },
      "source": [
        "# Цикл по количеству входных фраз - их 6\n",
        "\n",
        "for _ in range(6):\n",
        "\n",
        "    # подготовка\n",
        "    \n",
        "    qua  = strToTokens(input('Задайте мне вопрос: '))\n",
        "    if qua is None:                                      \n",
        "        print (\"а вот спросите меня о чем-нить полезном: \")  # Выдадим дежурную фразу\n",
        "        continue                                             # Пойдем за следущей фразой\n",
        "\n",
        "    emptyTargetSeq = np.zeros((1, 1))                    \n",
        "    emptyTargetSeq[0, 0] = tokenizer.word_index['start'] \n",
        "    stopCondition = False                                \n",
        "    decodedTranslation = '' \n",
        "    statesValues = encModel.predict(qua)                              \n",
        "\n",
        "    # пока не сработало стоп-условие\n",
        "    while not stopCondition:                             \n",
        "\n",
        "        # В модель декодера подадим пустую последовательность со словом 'start' и состояния\n",
        "        decOutputs , h , c = decModel.predict([emptyTargetSeq] + statesValues)\n",
        "        # Получим индекс предсказанного слова.\n",
        "        sampledWordIndex = np.argmax( decOutputs[0, 0, :]) \n",
        "        # Создаем переменную для преобразованных на естественный язык слов\n",
        "        sampledWord = None                                 \n",
        "\n",
        "        # Переберем в цикле все индексы токенайзера\n",
        "        for word, index in tokenizer.word_index.items():\n",
        "        \n",
        "            # Если индекс выбранного слова соответствует какому-то индексу из словаря\n",
        "            if sampledWordIndex == index:              \n",
        "                # Слово, идущее под этим индексом в словаре, добавляется в итоговый ответ \n",
        "                decodedTranslation += ' {}'.format(word) \n",
        "                # Выбранное слово фиксируем в переменную sampledWord\n",
        "                sampledWord = word                       \n",
        "        \n",
        "        # Если выбранным словом оказывается 'end' либо если сгенерированный ответ превышает заданную максимальную длину ответа\n",
        "        if sampledWord == 'end' or len(decodedTranslation.split()) > maxLenAnswers:\n",
        "            stopCondition = True # Срабатывает стоп-условие и прекращаем генерацию\n",
        "\n",
        "        # Создаем пустой массив\n",
        "        emptyTargetSeq = np.zeros((1, 1))       \n",
        "        \n",
        "        # Заносим в него индекс выбранного слова\n",
        "        emptyTargetSeq[0, 0] = sampledWordIndex \n",
        "        \n",
        "        # Записываем состояния, обновленные декодером \n",
        "        statesValues = [h, c]   \n",
        "\n",
        "        # И продолжаем цикл с обновленными параметрами                \n",
        "                                                \n",
        "    # Выводим ответ сгенерированный декодером\n",
        "    print(\"Ответ: \", decodedTranslation[:-4]) "
      ],
      "execution_count": null,
      "outputs": [
        {
          "output_type": "stream",
          "name": "stdout",
          "text": [
            "Задайте мне вопрос: кто ты\n",
            "Ответ:   я\n",
            "Задайте мне вопрос: почему ты съел курицу\n",
            "Ответ:   покориться судьбе\n",
            "Задайте мне вопрос: какой поезд завтра\n",
            "Ответ:   когда\n",
            "Задайте мне вопрос: есть места?\n",
            "Ответ:   а кто\n",
            "Задайте мне вопрос: пойдем гулять?\n",
            "Ответ:   ну\n",
            "Задайте мне вопрос: какая погода сегодня?\n",
            "Ответ:   не знаю\n"
          ]
        }
      ]
    }
  ]
}