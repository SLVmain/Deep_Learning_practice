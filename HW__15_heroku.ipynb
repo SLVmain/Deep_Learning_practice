{
  "cells": [
    {
      "cell_type": "markdown",
      "metadata": {
        "id": "view-in-github",
        "colab_type": "text"
      },
      "source": [
        "<a href=\"https://colab.research.google.com/github/SLVmain/Deep_Learning_practice/blob/main/HW__15_heroku.ipynb\" target=\"_parent\"><img src=\"https://colab.research.google.com/assets/colab-badge.svg\" alt=\"Open In Colab\"/></a>"
      ]
    },
    {
      "cell_type": "markdown",
      "metadata": {
        "id": "c6nTn8IaLGn_"
      },
      "source": [
        "Необходимо подготовить нейронную сеть для распознавания MNIST, загрузить на Heroku и запустить веб сервис:\n",
        "\n",
        "* Подготовить модель для распознавания MNIST\n",
        "* Подключить Git\n",
        "* Подключить Heroku\n",
        "* Загрузить модуль на Heroku и проверить работу веб-сервиса"
      ]
    },
    {
      "cell_type": "code",
      "execution_count": null,
      "metadata": {
        "id": "3b4wMrfQKe2l"
      },
      "outputs": [],
      "source": [
        "# Загружаем базу mnist\n",
        "from tensorflow.keras.datasets import mnist \n",
        "\n",
        "# Сеть прямого распространения\n",
        "from tensorflow.keras.models import Sequential \n",
        "\n",
        "# Базовые слои для счёрточных сетей\n",
        "from tensorflow.keras.layers import Dense, Conv2D, MaxPooling2D, Flatten, Dropout, BatchNormalization\n",
        "\n",
        "# оптимизаторы\n",
        "from tensorflow.keras.optimizers import Adam, Adadelta \n",
        "\n",
        "# Используем для to_categorical\n",
        "from tensorflow.keras import utils \n",
        "\n",
        "# Для отрисовки изображений\n",
        "from tensorflow.keras.preprocessing import image \n",
        "\n",
        "# Для загрузки своей картинки\n",
        "from google.colab import files \n",
        "\n",
        "# Библиотека работы с массивами\n",
        "import numpy as np \n",
        "\n",
        "# Для отрисовки графиков\n",
        "import matplotlib.pyplot as plt \n",
        "\n",
        "# Для отрисовки изображений\n",
        "from PIL import Image \n",
        "\n",
        "# Для генерации случайных чисел \n",
        "import random \n",
        "\n",
        "# Для округления\n",
        "import math \n",
        "\n",
        "#Для работы с файлами \n",
        "import os \n",
        "\n",
        "# подключем диск\n",
        "from google.colab import drive\n",
        "\n",
        "%matplotlib inline"
      ]
    },
    {
      "cell_type": "markdown",
      "metadata": {
        "id": "7A0tdANyLCPs"
      },
      "source": [
        "## Распознавание изображений из набора данных MNIST \n"
      ]
    },
    {
      "cell_type": "markdown",
      "metadata": {
        "id": "a-cggImwMCQP"
      },
      "source": [
        "**Подготовка данных**\n"
      ]
    },
    {
      "cell_type": "code",
      "execution_count": null,
      "metadata": {
        "id": "_PT1LV_KMVto"
      },
      "outputs": [],
      "source": [
        "# Загружаем MNIST\n",
        "(x_train, y_train), (x_test, y_test) = mnist.load_data()"
      ]
    },
    {
      "cell_type": "code",
      "execution_count": null,
      "metadata": {
        "colab": {
          "base_uri": "https://localhost:8080/"
        },
        "id": "nft2zSCpVWYV",
        "outputId": "8055dc6f-ead0-4b0c-c26c-d39f5089c9f4"
      },
      "outputs": [
        {
          "output_type": "execute_result",
          "data": {
            "text/plain": [
              "(60000, 28, 28)"
            ]
          },
          "metadata": {},
          "execution_count": 5
        }
      ],
      "source": [
        "x_train.shape"
      ]
    },
    {
      "cell_type": "code",
      "execution_count": null,
      "metadata": {
        "colab": {
          "base_uri": "https://localhost:8080/",
          "height": 168
        },
        "id": "vNoGJvE_M3YW",
        "outputId": "eb509841-501d-4ae2-cf23-d2c048ab0e56"
      },
      "outputs": [
        {
          "output_type": "display_data",
          "data": {
            "text/plain": [
              "<Figure size 1800x216 with 10 Axes>"
            ],
            "image/png": "[encoded data removed]"
          },
          "metadata": {
            "needs_background": "light"
          }
        }
      ],
      "source": [
        "# Выводим для примера картинки по каждому классу\n",
        "\n",
        "fig, axs = plt.subplots(1, 10, figsize=(25, 3)) # Создаем полотно из 10 графиков\n",
        "\n",
        "for i in range(10): # Проходим по классам от 0 до 9\n",
        "  label_indexes = np.where(y_train==i)[0] # Получаем список из индексов положений класса i в y_train\n",
        "  index = random.choice(label_indexes) # Случайным образом выбираем из списка индекс\n",
        "  img = x_train[index] # Выбираем из x_train нужное изображение\n",
        "  axs[i].imshow(Image.fromarray(img), cmap='gray') #Отображаем изображение i-ым графиков\n",
        "\n",
        "plt.show() # Показываем изображения"
      ]
    },
    {
      "cell_type": "code",
      "execution_count": null,
      "metadata": {
        "id": "ti92Kvp3NX61"
      },
      "outputs": [],
      "source": [
        "# Превращаем y_train и y_test сетей в формат one hot encoding\n",
        "\n",
        "y_train = utils.to_categorical(y_train, 10)\n",
        "y_test = utils.to_categorical(y_test, 10)\n",
        "\n",
        "# Меняем формат данных MNIST\n",
        "# Надо добавить в конце размерность 1\n",
        "# Чтобы свёрточная сеть понимала, что это чёрно-белые данные\n",
        "\n",
        "x_train = x_train.reshape(x_train.shape[0], 28, 28, 1)\n",
        "x_test = x_test.reshape(x_test.shape[0], 28, 28, 1)"
      ]
    },
    {
      "cell_type": "code",
      "execution_count": null,
      "metadata": {
        "colab": {
          "base_uri": "https://localhost:8080/"
        },
        "id": "tZwKJRB7dW3q",
        "outputId": "2a769e09-7682-45b1-e398-17f10a50c480"
      },
      "outputs": [
        {
          "output_type": "stream",
          "name": "stdout",
          "text": [
            "(60000, 28, 28, 1)\n",
            "(10000, 28, 28, 1)\n",
            "(60000, 10)\n",
            "(10000, 10)\n"
          ]
        }
      ],
      "source": [
        "# Посмотрим форматы выборок перед обучением\n",
        "\n",
        "print(x_train.shape)\n",
        "print(x_test.shape)\n",
        "print(y_train.shape)\n",
        "print(y_test.shape)"
      ]
    },
    {
      "cell_type": "markdown",
      "metadata": {
        "id": "P93UbJvKSEAX"
      },
      "source": [
        "**Нейронная сеть**"
      ]
    },
    {
      "cell_type": "code",
      "execution_count": null,
      "metadata": {
        "id": "5YioYV0CPY7B"
      },
      "outputs": [],
      "source": [
        "batch_size = 128 \n",
        "\n",
        "# Создаем последовательную модель\n",
        "\n",
        "model = Sequential()\n",
        "\n",
        "model.add(BatchNormalization(input_shape=(28, 28, 1))) # Слой пакетной нормализации\n",
        "model.add(Conv2D(32, (3, 3), padding='same', activation='relu')) # Первый сверточный слой\n",
        "model.add(Conv2D(32, (3, 3), padding='same', activation='relu')) # Второй сверточный слой\n",
        "model.add(MaxPooling2D(pool_size=(2, 2))) # Первый слой подвыборки\n",
        "\n",
        "model.add(Dropout(0.25)) # Слой регуляризации Dropout\n",
        "model.add(Flatten())\n",
        "\n",
        "model.add(Dense(256, activation='relu')) # Полносвязный слой для классификации\n",
        "model.add(Dropout(0.25)) # Слой регуляризации Dropout\n",
        "model.add(Dense(10, activation='softmax')) # Выходной полносвязный слой\n",
        "\n",
        "# Компилируем сеть\n",
        "model.compile(loss=\"categorical_crossentropy\", optimizer=\"adam\", metrics=[\"accuracy\"])"
      ]
    },
    {
      "cell_type": "code",
      "execution_count": null,
      "metadata": {
        "colab": {
          "base_uri": "https://localhost:8080/"
        },
        "id": "3DJfoivkXWpq",
        "outputId": "bcb5d80e-0f48-4e05-c768-d465f396229f"
      },
      "outputs": [
        {
          "output_type": "stream",
          "name": "stdout",
          "text": [
            "Model: \"sequential\"\n",
            "_________________________________________________________________\n",
            " Layer (type)                Output Shape              Param #   \n",
            "=================================================================\n",
            " batch_normalization (BatchN  (None, 28, 28, 1)        4         \n",
            " ormalization)                                                   \n",
            "                                                                 \n",
            " conv2d (Conv2D)             (None, 28, 28, 32)        320       \n",
            "                                                                 \n",
            " conv2d_1 (Conv2D)           (None, 28, 28, 32)        9248      \n",
            "                                                                 \n",
            " max_pooling2d (MaxPooling2D  (None, 14, 14, 32)       0         \n",
            " )                                                               \n",
            "                                                                 \n",
            " dropout (Dropout)           (None, 14, 14, 32)        0         \n",
            "                                                                 \n",
            " flatten (Flatten)           (None, 6272)              0         \n",
            "                                                                 \n",
            " dense (Dense)               (None, 256)               1605888   \n",
            "                                                                 \n",
            " dropout_1 (Dropout)         (None, 256)               0         \n",
            "                                                                 \n",
            " dense_1 (Dense)             (None, 10)                2570      \n",
            "                                                                 \n",
            "=================================================================\n",
            "Total params: 1,618,030\n",
            "Trainable params: 1,618,028\n",
            "Non-trainable params: 2\n",
            "_________________________________________________________________\n"
          ]
        }
      ],
      "source": [
        "model.summary()"
      ]
    },
    {
      "cell_type": "code",
      "execution_count": null,
      "metadata": {
        "colab": {
          "base_uri": "https://localhost:8080/",
          "height": 815
        },
        "id": "Id69qEDaAx_4",
        "outputId": "47295a24-fd44-4417-9f13-b261e8cbedc8"
      },
      "outputs": [
        {
          "output_type": "stream",
          "name": "stdout",
          "text": [
            "Epoch 1/15\n",
            "469/469 [==============================] - 5s 6ms/step - loss: 0.1629 - accuracy: 0.9499 - val_loss: 0.0536 - val_accuracy: 0.9838\n",
            "Epoch 2/15\n",
            "469/469 [==============================] - 3s 6ms/step - loss: 0.0526 - accuracy: 0.9833 - val_loss: 0.0373 - val_accuracy: 0.9861\n",
            "Epoch 3/15\n",
            "469/469 [==============================] - 3s 6ms/step - loss: 0.0351 - accuracy: 0.9889 - val_loss: 0.0290 - val_accuracy: 0.9900\n",
            "Epoch 4/15\n",
            "469/469 [==============================] - 3s 6ms/step - loss: 0.0269 - accuracy: 0.9915 - val_loss: 0.0293 - val_accuracy: 0.9895\n",
            "Epoch 5/15\n",
            "469/469 [==============================] - 3s 6ms/step - loss: 0.0208 - accuracy: 0.9931 - val_loss: 0.0304 - val_accuracy: 0.9897\n",
            "Epoch 6/15\n",
            "469/469 [==============================] - 3s 6ms/step - loss: 0.0191 - accuracy: 0.9937 - val_loss: 0.0313 - val_accuracy: 0.9901\n",
            "Epoch 7/15\n",
            "469/469 [==============================] - 3s 6ms/step - loss: 0.0167 - accuracy: 0.9943 - val_loss: 0.0327 - val_accuracy: 0.9907\n",
            "Epoch 8/15\n",
            "469/469 [==============================] - 3s 6ms/step - loss: 0.0128 - accuracy: 0.9955 - val_loss: 0.0292 - val_accuracy: 0.9900\n",
            "Epoch 9/15\n",
            "469/469 [==============================] - 3s 6ms/step - loss: 0.0127 - accuracy: 0.9954 - val_loss: 0.0285 - val_accuracy: 0.9915\n",
            "Epoch 10/15\n",
            "469/469 [==============================] - 3s 6ms/step - loss: 0.0103 - accuracy: 0.9965 - val_loss: 0.0290 - val_accuracy: 0.9917\n",
            "Epoch 11/15\n",
            "469/469 [==============================] - 3s 6ms/step - loss: 0.0112 - accuracy: 0.9963 - val_loss: 0.0395 - val_accuracy: 0.9879\n",
            "Epoch 12/15\n",
            "469/469 [==============================] - 3s 6ms/step - loss: 0.0093 - accuracy: 0.9971 - val_loss: 0.0337 - val_accuracy: 0.9921\n",
            "Epoch 13/15\n",
            "469/469 [==============================] - 3s 6ms/step - loss: 0.0079 - accuracy: 0.9974 - val_loss: 0.0270 - val_accuracy: 0.9921\n",
            "Epoch 14/15\n",
            "469/469 [==============================] - 3s 6ms/step - loss: 0.0086 - accuracy: 0.9971 - val_loss: 0.0316 - val_accuracy: 0.9929\n",
            "Epoch 15/15\n",
            "469/469 [==============================] - 3s 6ms/step - loss: 0.0082 - accuracy: 0.9973 - val_loss: 0.0313 - val_accuracy: 0.9911\n"
          ]
        },
        {
          "output_type": "display_data",
          "data": {
            "text/plain": [
              "<Figure size 432x288 with 1 Axes>"
            ],
            "image/png": "[encoded data removed]"
          },
          "metadata": {
            "needs_background": "light"
          }
        }
      ],
      "source": [
        "# Обучаем сеть на данных mnist\n",
        "\n",
        "history = model.fit(x_train, \n",
        "                    y_train, \n",
        "                    batch_size=batch_size, \n",
        "                    epochs=15,\n",
        "                    validation_data=(x_test, y_test),\n",
        "                    verbose=1)\n",
        "\n",
        "# Отображаем график точности обучения\n",
        "\n",
        "plt.plot(history.history['accuracy'], \n",
        "         label='Доля верных ответов на обучающем наборе')\n",
        "plt.plot(history.history['val_accuracy'], \n",
        "         label='Доля верных ответов на проверочном наборе')\n",
        "plt.xlabel('Эпоха обучения')\n",
        "plt.ylabel('Доля верных ответов')\n",
        "plt.legend()\n",
        "plt.show()"
      ]
    },
    {
      "cell_type": "code",
      "execution_count": null,
      "metadata": {
        "id": "Q2908Wjx08j-"
      },
      "outputs": [],
      "source": [
        "# Пересохранение обученной модели полностью (веса и архитектура)\n",
        "model.save('model_fmr_all.h5')"
      ]
    },
    {
      "cell_type": "markdown",
      "metadata": {
        "id": "-1fuHgqvkmb2"
      },
      "source": [
        "Создадим программный файл с кодом для:\n",
        "* инициализации модели;\n",
        "* загрузки весов;\n",
        "* работы модели в режиме распознавания;\n",
        "* пред- и постобработки изображений."
      ]
    },
    {
      "cell_type": "markdown",
      "metadata": {
        "id": "mskzkMDs9rQR"
      },
      "source": [
        "проверим работу функции"
      ]
    },
    {
      "cell_type": "code",
      "execution_count": null,
      "metadata": {
        "id": "upqrfuja9Dfe"
      },
      "outputs": [],
      "source": [
        "from tensorflow.keras.models import load_model\n",
        "MODEL_NAME =   'model_fmr_all.h5'\n",
        "import numpy as np\n",
        "from PIL import Image \n",
        "model = load_model(MODEL_NAME) # Загружаем веса\n",
        "INPUT_SHAPE = (28, 28, 1) #размер входной картинки\n",
        "\n",
        "\n",
        "def process(image_file):\n",
        "    image = Image.open(image_file).convert('L') # Открываем обрабатываемый файл, переводим с серую шкалу с одним каналом\n",
        "    resized_img = image.resize((INPUT_SHAPE[1], INPUT_SHAPE[0])) # Изменяем размер изображения в соответствии со входом сети\n",
        "    array = np.array(resized_img, dtype='float64')  # в нумпай\n",
        "    array = array.reshape(-1, 28, 28, 1) #нужная размерность\n",
        "    \n",
        "    #в модель\n",
        "    class_out = np.argmax(model.predict(array))\n",
        "\n",
        "    return class_out"
      ]
    },
    {
      "cell_type": "code",
      "execution_count": null,
      "metadata": {
        "id": "S3vAZJQy9KnI"
      },
      "outputs": [],
      "source": [
        "ttt = '/content/777.jpg'"
      ]
    },
    {
      "cell_type": "code",
      "execution_count": null,
      "metadata": {
        "colab": {
          "base_uri": "https://localhost:8080/"
        },
        "id": "VrS8ztvl9QZp",
        "outputId": "536f5a8c-86eb-44e9-e543-a049a552fefa"
      },
      "outputs": [
        {
          "name": "stdout",
          "output_type": "stream",
          "text": [
            "7\n"
          ]
        }
      ],
      "source": [
        "out = process(ttt)\n",
        "print(out)"
      ]
    },
    {
      "cell_type": "code",
      "execution_count": null,
      "metadata": {
        "id": "jJL6IWIwC4eu"
      },
      "outputs": [],
      "source": [
        "!rm -rf 777.jpg"
      ]
    },
    {
      "cell_type": "code",
      "execution_count": null,
      "metadata": {
        "id": "A5rbPlLmDsiA"
      },
      "outputs": [],
      "source": [
        "'''from google.colab import drive\n",
        "drive.flush_and_unmount()'''"
      ]
    },
    {
      "cell_type": "markdown",
      "metadata": {
        "id": "AoFkzRM19yh_"
      },
      "source": [
        "работает, напишем файл для heroku"
      ]
    },
    {
      "cell_type": "code",
      "execution_count": null,
      "metadata": {
        "id": "mAaVdQWh2xoh"
      },
      "outputs": [],
      "source": [
        "#пред и пост обработка файла\n",
        "segment_file = '''\n",
        "\n",
        "from tensorflow.keras.models import load_model\n",
        "MODEL_NAME =   'model_fmr_all.h5'\n",
        "import numpy as np\n",
        "from PIL import Image \n",
        "model = load_model(MODEL_NAME) # Загружаем веса\n",
        "INPUT_SHAPE = (28, 28, 1) #размер входной картинки\n",
        "\n",
        "\n",
        "def process(image_file):\n",
        "    image = Image.open(image_file).convert('L') # Открываем обрабатываемый файл, переводим с серую шкалу с одним каналом\n",
        "    resized_img = image.resize((INPUT_SHAPE[1], INPUT_SHAPE[0])) # Изменяем размер изображения в соответствии со входом сети\n",
        "    array = np.array(resized_img)  # в нумпай, первый слой у нас батчнорм, так что не нужна нормализация\n",
        "    array = array.reshape(-1, 28, 28, 1) #нужная размерность\n",
        "    \n",
        "    #в модель\n",
        "    class_out = np.argmax(model.predict(array))\n",
        "\n",
        "    return class_out\n",
        "'''\n",
        "\n",
        "with open('segment.py', 'w') as file:\n",
        "  file.write(segment_file)"
      ]
    },
    {
      "cell_type": "markdown",
      "metadata": {
        "id": "DWNMXFO0kmb4"
      },
      "source": [
        "Приступим к созданию демонстрационной формы для выбранной модели. Все создаваемые файлы вместе составят установочный набор, на который будет ориентироваться хостинг при развертывании вашего сервиса."
      ]
    },
    {
      "cell_type": "markdown",
      "metadata": {
        "id": "9O-ZFo9Bkmb5"
      },
      "source": [
        "Создадим файл приложения (формы):"
      ]
    },
    {
      "cell_type": "code",
      "execution_count": null,
      "metadata": {
        "id": "Q0yb-TsJOmmv"
      },
      "outputs": [],
      "source": [
        "app_file = '''\n",
        "\n",
        "import streamlit as st\n",
        "from PIL import Image \n",
        "from segment import process\n",
        "\n",
        "st.title('Распознавание цифр MNIST')\n",
        "\n",
        "image_file = st.file_uploader('Load an image', type=['png']) \n",
        "\n",
        "if not image_file is None: \n",
        "    image = Image.open(image_file)\n",
        "    results = process(image_file)\n",
        "    st.write('Output digit:', results)\n",
        "'''\n",
        "\n",
        "with open('app.py', 'w') as file:\n",
        "  file.write(app_file)"
      ]
    },
    {
      "cell_type": "markdown",
      "metadata": {
        "id": "kRZQeyeyYXDA"
      },
      "source": [
        "Создание файла для задания конфигурации Streamlit:"
      ]
    },
    {
      "cell_type": "code",
      "execution_count": null,
      "metadata": {
        "id": "Fn7UO5OzaziS"
      },
      "outputs": [],
      "source": [
        "setup_file = '''\n",
        "\n",
        "mkdir -p ~/.streamlit/\n",
        "echo \"\\\n",
        "[server]\\n\\\n",
        "headless = true\\n\\\n",
        "port = $PORT\\n\\\n",
        "enableCORS = false\\n\\\n",
        "\\n\\\n",
        "\" > ~/.streamlit/config.toml\n",
        "\n",
        "'''\n",
        "\n",
        "with open('setup.sh', 'w') as file:\n",
        "    file.write(setup_file)"
      ]
    },
    {
      "cell_type": "markdown",
      "metadata": {
        "id": "UG-CYd5xaIjI"
      },
      "source": [
        "Создание файла для запуска сервиса:"
      ]
    },
    {
      "cell_type": "code",
      "execution_count": null,
      "metadata": {
        "id": "z5A1I3l1aHtC"
      },
      "outputs": [],
      "source": [
        "proc_file = 'web: sh setup.sh && streamlit run app.py'\n",
        "\n",
        "with open('Procfile', 'w') as file:\n",
        "    file.write(proc_file)"
      ]
    },
    {
      "cell_type": "markdown",
      "metadata": {
        "id": "n-p0rV3GbZpe"
      },
      "source": [
        "Создание requirements:"
      ]
    },
    {
      "cell_type": "code",
      "execution_count": null,
      "metadata": {
        "id": "ZgxXWs_QbY8y"
      },
      "outputs": [],
      "source": [
        "requirements_file = '''\n",
        "streamlit==1.8.0\n",
        "tensorflow-cpu==2.8.0\n",
        "click<=8.0.4\n",
        "'''\n",
        "\n",
        "with open('requirements.txt', 'w') as file:\n",
        "    file.write(requirements_file)"
      ]
    },
    {
      "cell_type": "markdown",
      "metadata": {
        "id": "RhMg7OaD4z_s"
      },
      "source": [
        "Удаление лишних файлов, находящихся в текущей директории в Colab по умолчанию:"
      ]
    },
    {
      "cell_type": "code",
      "execution_count": null,
      "metadata": {
        "id": "umIFFDVs4zWy"
      },
      "outputs": [],
      "source": [
        "!rm -rf sample_data"
      ]
    },
    {
      "cell_type": "markdown",
      "metadata": {
        "id": "mqFB2LtGdQ1B"
      },
      "source": [
        "Шаг с установкой Git можно пропустить, так как виртуальные машины Google Colab уже содержат предустановленный пакет Git.<br>Проверка наличия Git:"
      ]
    },
    {
      "cell_type": "code",
      "execution_count": null,
      "metadata": {
        "colab": {
          "base_uri": "https://localhost:8080/"
        },
        "id": "JL1Ud90Wb3Hj",
        "outputId": "c55c159b-d67a-432b-e920-b5f275a292d6"
      },
      "outputs": [
        {
          "output_type": "stream",
          "name": "stdout",
          "text": [
            "git version 2.17.1\n"
          ]
        }
      ],
      "source": [
        "!git --version"
      ]
    },
    {
      "cell_type": "markdown",
      "metadata": {
        "id": "Od0LH3H4hac9"
      },
      "source": [
        "Задание имени пользователя и e-mail для Git. Укажите свой email и Имя-Фамилию:"
      ]
    },
    {
      "cell_type": "code",
      "execution_count": null,
      "metadata": {
        "id": "X1TMtXCFhQso"
      },
      "outputs": [],
      "source": [
        "!git config --global user.email \"sky.tandem@gmail.com\"\n",
        "!git config --global user.name \"Skytandem\""
      ]
    },
    {
      "cell_type": "markdown",
      "metadata": {
        "id": "72A9bsRDdpm5"
      },
      "source": [
        "Установка Heroku CLI (Command Line Interface):"
      ]
    },
    {
      "cell_type": "code",
      "execution_count": null,
      "metadata": {
        "colab": {
          "base_uri": "https://localhost:8080/"
        },
        "id": "xA20zJswdpAo",
        "outputId": "87bec2bf-44fd-4ec8-d1a9-d3079c99c2c8"
      },
      "outputs": [
        {
          "output_type": "stream",
          "name": "stdout",
          "text": [
            "  % Total    % Received % Xferd  Average Speed   Time    Time     Time  Current\n",
            "                                 Dload  Upload   Total   Spent    Left  Speed\n",
            "\r  0     0    0     0    0     0      0      0 --:--:-- --:--:-- --:--:--     0\r100  1232  100  1232    0     0  13391      0 --:--:-- --:--:-- --:--:-- 13391\n",
            "+ dpkg -s apt-transport-https\n",
            "+ echo deb https://cli-assets.heroku.com/apt ./\n",
            "+ dpkg -s heroku-toolbelt\n",
            "+ true\n",
            "+ curl https://cli-assets.heroku.com/apt/release.key\n",
            "+ apt-key add -\n",
            "  % Total    % Received % Xferd  Average Speed   Time    Time     Time  Current\n",
            "                                 Dload  Upload   Total   Spent    Left  Speed\n",
            "\r  0     0    0     0    0     0      0      0 --:--:-- --:--:-- --:--:--     0\r100  1753  100  1753    0     0  48694      0 --:--:-- --:--:-- --:--:-- 50085\n",
            "Warning: apt-key output should not be parsed (stdout is not a terminal)\n",
            "+ apt-get update\n",
            "+ apt-get install -y heroku\n"
          ]
        }
      ],
      "source": [
        "!curl https://cli-assets.heroku.com/install-ubuntu.sh | sh > /dev/null"
      ]
    },
    {
      "cell_type": "markdown",
      "metadata": {
        "id": "V9hxnDUPeQHB"
      },
      "source": [
        "Проверка установки Heroku CLI:"
      ]
    },
    {
      "cell_type": "code",
      "execution_count": null,
      "metadata": {
        "colab": {
          "base_uri": "https://localhost:8080/"
        },
        "id": "mf8C8Mq5eV5z",
        "outputId": "15e0bbce-d849-440f-828d-08fb6a95bd4c"
      },
      "outputs": [
        {
          "output_type": "stream",
          "name": "stdout",
          "text": [
            "heroku/7.60.2 linux-x64 node-v14.19.0\n"
          ]
        }
      ],
      "source": [
        "!heroku --version"
      ]
    },
    {
      "cell_type": "markdown",
      "metadata": {
        "id": "16yIQN4R3dRX"
      },
      "source": [
        "Для авторизации в Heroku необходимо:\n",
        "\n",
        "1. создать переменную `LOGIN` и поместить в нее ваш логин с Heroku\n",
        "2. создать переменную `API_KEY` и поместить в нее значение из поля `API Key` (перейти на [страницу с настройками Heroku](https://dashboard.heroku.com/account), прокрутить вниз).\n",
        "3. создать файл `.netrc` в домашней директории с указанием логина и скопированного токена:"
      ]
    },
    {
      "cell_type": "code",
      "execution_count": null,
      "metadata": {
        "id": "nMzbiOygyakE"
      },
      "outputs": [],
      "source": [
        "LOGIN = 'sky.tandem@gmail.com' # Укажите свой логин\n",
        "API_KEY = '47a09d99-d5e9-497d-8200-cc1597583e62' # Укажите свой API-key\n",
        "           \n",
        "auth_file = '''machine api.heroku.com\n",
        "  login {login}\n",
        "  password {password}\n",
        "machine git.heroku.com\n",
        "  login {login}\n",
        "  password {password}\n",
        "'''.format(login=LOGIN, password=API_KEY)\n",
        "\n",
        "with open('/root/.netrc', 'w') as file:\n",
        "    file.write(auth_file)"
      ]
    },
    {
      "cell_type": "markdown",
      "metadata": {
        "id": "puKPMuejfTZ-"
      },
      "source": [
        "Прежде чем Вы сможете развернуть свое приложение в Heroku, Вам необходимо инициализировать локальный репозиторий Git и зафиксировать в нем код вашего приложения:"
      ]
    },
    {
      "cell_type": "code",
      "execution_count": null,
      "metadata": {
        "colab": {
          "base_uri": "https://localhost:8080/"
        },
        "id": "IYioYenIfS89",
        "outputId": "ac8b2ec8-08a3-457f-ce2a-4d6b5a519ebb"
      },
      "outputs": [
        {
          "output_type": "stream",
          "name": "stdout",
          "text": [
            "Reinitialized existing Git repository in /content/.git/\n",
            "[master ca985b9] My ft commit\n",
            " 1 file changed, 0 insertions(+), 0 deletions(-)\n"
          ]
        }
      ],
      "source": [
        "!git init\n",
        "!git add .\n",
        "!git commit -m \"My ft commit\""
      ]
    },
    {
      "cell_type": "code",
      "execution_count": null,
      "metadata": {
        "colab": {
          "base_uri": "https://localhost:8080/"
        },
        "id": "gOSYrln2V_WO",
        "outputId": "1e92c7b0-3970-4be6-be27-432a634249c4"
      },
      "outputs": [
        {
          "name": "stdout",
          "output_type": "stream",
          "text": [
            "[master 710483a] My first commit\n",
            " 1 file changed, 1 insertion(+), 1 deletion(-)\n"
          ]
        }
      ],
      "source": [
        "\"\"\"!git add .\n",
        "!git commit -m \"My first commit\"\"\"\""
      ]
    },
    {
      "cell_type": "markdown",
      "metadata": {
        "id": "5NeveOF_gOaV"
      },
      "source": [
        "Код вашего приложения теперь отслеживается в локальном репозитории Git. Он еще не отправлен на удаленный сервер."
      ]
    },
    {
      "cell_type": "markdown",
      "metadata": {
        "id": "FomkhZ3fgYw0"
      },
      "source": [
        "Команда `heroku create` создает новое пустое приложение на Heroku вместе с соответствующим репозиторием Git. Если Вы запустите эту команду из корневого каталога Вашего приложения, пустой репозиторий Heroku Git автоматически станет удаленным для Вашего локального репозитория."
      ]
    },
    {
      "cell_type": "code",
      "execution_count": null,
      "metadata": {
        "colab": {
          "base_uri": "https://localhost:8080/"
        },
        "id": "KDqz4d76gh6l",
        "outputId": "2e1517bd-a7b7-445c-e095-e94544849bfb"
      },
      "outputs": [
        {
          "output_type": "stream",
          "name": "stdout",
          "text": [
            "\u001b[G\u001b[2K\u001b[?25lCreating app... \u001b[35m⣾\u001b[39m \n",
            "\u001b[1A\u001b[16C\u001b[35m⣽\u001b[39m\u001b[1B\u001b[G\u001b[2K\u001b[1A\u001b[16C\u001b[35m⣻\u001b[39m\u001b[1B\u001b[G\u001b[2K\u001b[1A\u001b[16C\u001b[35m⢿\u001b[39m\u001b[1B\u001b[G\u001b[2K\u001b[1A\u001b[16C\u001b[35m⡿\u001b[39m\u001b[1B\u001b[G\u001b[2K\u001b[1A\u001b[16C\u001b[35m⣟\u001b[39m\u001b[1B\u001b[G\u001b[2K\u001b[1A\u001b[16C\u001b[35m⣯\u001b[39m\u001b[1B\u001b[G\u001b[2K\u001b[1A\u001b[16C\u001b[35m⣷\u001b[39m\u001b[1B\u001b[G\u001b[2K\u001b[1A\u001b[JCreating app... done, \u001b[35m⬢ afternoon-reaches-50801\u001b[39m\n",
            "\u001b[?25h\u001b[36mhttps://afternoon-reaches-50801.herokuapp.com/\u001b[39m | \u001b[32mhttps://git.heroku.com/afternoon-reaches-50801.git\u001b[39m\n",
            "\u001b[?25h"
          ]
        }
      ],
      "source": [
        "!heroku create"
      ]
    },
    {
      "cell_type": "markdown",
      "metadata": {
        "id": "SbV5JVVGghO1"
      },
      "source": [
        "Вы можете использовать команду `git remote`, чтобы проверить, что для Вашего приложения установлен удаленный репозиторий с именем heroku:"
      ]
    },
    {
      "cell_type": "code",
      "execution_count": null,
      "metadata": {
        "colab": {
          "base_uri": "https://localhost:8080/"
        },
        "id": "_sfCSmJdgrrD",
        "outputId": "1c3b1cd4-7020-44c8-8b8f-fc20b1f6ce51"
      },
      "outputs": [
        {
          "output_type": "stream",
          "name": "stdout",
          "text": [
            "heroku\thttps://git.heroku.com/fast-reef-61027.git (fetch)\n",
            "heroku\thttps://git.heroku.com/fast-reef-61027.git (push)\n"
          ]
        }
      ],
      "source": [
        "!git remote -v"
      ]
    },
    {
      "cell_type": "markdown",
      "metadata": {
        "id": "kanKHJQng0_d"
      },
      "source": [
        "Чтобы развернуть приложение в Heroku, нужно использовать команду `git push`, чтобы отправить код из главной или основной ветки локального репозитория на удаленный сервер heroku:"
      ]
    },
    {
      "cell_type": "code",
      "execution_count": null,
      "metadata": {
        "colab": {
          "base_uri": "https://localhost:8080/"
        },
        "id": "lyhOjRjag0KS",
        "outputId": "3083e678-dfdd-45d6-f364-b1ae78cdefab"
      },
      "outputs": [
        {
          "output_type": "stream",
          "name": "stdout",
          "text": [
            "Counting objects: 3, done.\n",
            "Delta compression using up to 4 threads.\n",
            "Compressing objects: 100% (3/3), done.\n",
            "Writing objects: 100% (3/3), 16.44 MiB | 6.12 MiB/s, done.\n",
            "Total 3 (delta 1), reused 0 (delta 0)\n",
            "remote: Compressing source files... done.\u001b[K\n",
            "remote: Building source:\u001b[K\n",
            "remote: \n",
            "remote: -----> Building on the Heroku-20 stack\u001b[K\n",
            "remote: -----> Using buildpack: heroku/python\u001b[K\n",
            "remote: -----> Python app detected\u001b[K\n",
            "remote: -----> No Python version was specified. Using the same version as the last build: python-3.10.5\u001b[K\n",
            "remote:        To use a different version, see: https://devcenter.heroku.com/articles/python-runtimes\u001b[K\n",
            "remote: -----> No change in requirements detected, installing from cache\u001b[K\n",
            "remote: -----> Using cached install of python-3.10.5\u001b[K\n",
            "remote: -----> Installing pip 22.1.2, setuptools 60.10.0 and wheel 0.37.1\u001b[K\n",
            "remote: -----> Installing SQLite3\u001b[K\n",
            "remote: -----> Installing requirements with pip\u001b[K\n",
            "remote: -----> Discovering process types\u001b[K\n",
            "remote:        Procfile declares types -> web\u001b[K\n",
            "remote: \n",
            "remote: -----> Compressing...\u001b[K\n",
            "remote:        Done: 372.6M\u001b[K\n",
            "remote: -----> Launching...\u001b[K\n",
            "remote:  !     Warning: Your slug size (372 MB) exceeds our soft limit (300 MB) which may affect boot time.\u001b[K\n",
            "remote:        Released v4\u001b[K\n",
            "remote:        https://fast-reef-61027.herokuapp.com/ deployed to Heroku\u001b[K\n",
            "remote: \n",
            "remote: \u001b[34mThis app is using the Heroku-20 stack, however a newer stack is available.\u001b[0m\u001b[K\n",
            "remote: \u001b[34mTo upgrade to Heroku-22, see:\u001b[0m\u001b[K\n",
            "remote: \u001b[34mhttps://devcenter.heroku.com/articles/upgrading-to-the-latest-stack\u001b[0m\n",
            "remote: \n",
            "remote: Verifying deploy... done.\u001b[K\n",
            "To https://git.heroku.com/fast-reef-61027.git\n",
            "   3315222..ca985b9  master -> master\n"
          ]
        }
      ],
      "source": [
        "!git push heroku master"
      ]
    },
    {
      "cell_type": "code",
      "execution_count": null,
      "metadata": {
        "id": "LjixClo4UvBM"
      },
      "outputs": [],
      "source": [
        "\"\"\"!git config --list\"\"\""
      ]
    },
    {
      "cell_type": "code",
      "source": [
        "!heroku logs --tail"
      ],
      "metadata": {
        "id": "BVp8O-lRv-ET"
      },
      "execution_count": null,
      "outputs": []
    },
    {
      "cell_type": "markdown",
      "metadata": {
        "id": "aUIj_bR1I0QH"
      },
      "source": [
        "результат ниже, все отработало отлично"
      ]
    },
    {
      "cell_type": "code",
      "execution_count": null,
      "metadata": {
        "colab": {
          "base_uri": "https://localhost:8080/",
          "height": 736
        },
        "id": "kIvHMMRYIziR",
        "outputId": "cfb089cc-279b-4511-a9d7-18ef6b547247"
      },
      "outputs": [
        {
          "data": {
            "image/png": "[encoded data removed]",
            "text/plain": [
              "<IPython.core.display.Image object>"
            ]
          },
          "execution_count": 34,
          "metadata": {},
          "output_type": "execute_result"
        }
      ],
      "source": [
        "from IPython.display import Image\n",
        "Image('/content/res1.png')"
      ]
    }
  ],
  "metadata": {
    "accelerator": "GPU",
    "colab": {
      "collapsed_sections": [],
      "machine_shape": "hm",
      "name": "HW_ 15_heroku.ipynb",
      "provenance": [],
      "include_colab_link": true
    },
    "kernelspec": {
      "display_name": "Python 3",
      "name": "python3"
    },
    "language_info": {
      "name": "python"
    },
    "gpuClass": "standard"
  },
  "nbformat": 4,
  "nbformat_minor": 0
}