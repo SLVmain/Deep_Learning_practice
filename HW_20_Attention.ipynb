{
  "nbformat": 4,
  "nbformat_minor": 0,
  "metadata": {
    "colab": {
      "name": "HW_20_Attention.ipynb",
      "provenance": [],
      "collapsed_sections": [],
      "machine_shape": "hm",
      "include_colab_link": true
    },
    "kernelspec": {
      "name": "python3",
      "display_name": "Python 3"
    },
    "language_info": {
      "name": "python"
    },
    "accelerator": "GPU"
  },
  "cells": [
    {
      "cell_type": "markdown",
      "metadata": {
        "id": "view-in-github",
        "colab_type": "text"
      },
      "source": [
        "<a href=\"https://colab.research.google.com/github/SLVmain/Deep_Learning/blob/main/HW_20_Attention.ipynb\" target=\"_parent\"><img src=\"https://colab.research.google.com/assets/colab-badge.svg\" alt=\"Open In Colab\"/></a>"
      ]
    },
    {
      "cell_type": "markdown",
      "metadata": {
        "id": "8XhodKqwLjQ6"
      },
      "source": [
        "#Добро пожаловать на задание уровня Pro.\n",
        "\n",
        "В данном задании требуется на базе для чат-бота сравнить модель seq2seq и seq2seq с вниманием\n",
        "\n",
        "Успехов!"
      ]
    },
    {
      "cell_type": "code",
      "metadata": {
        "id": "n7LxGv5bdgmN"
      },
      "source": [
        "# модуль для загрузки файлов в colab\n",
        "from google.colab import files \n",
        "\n",
        "# Подключим tensorflow\n",
        "import tensorflow as tf \n",
        "\n",
        "# Импортируем слои\n",
        "from tensorflow.keras.layers import Dense, Conv1D, MaxPool1D, GlobalMaxPooling1D, LSTM, GRU, Bidirectional, Embedding, Input, Concatenate, Attention\n",
        "\n",
        "# Импортируем модели\n",
        "from tensorflow.keras.models import Sequential, Model, load_model\n",
        "\n",
        "# Подключим токенайзер\n",
        "from tensorflow.keras.preprocessing.text import Tokenizer\n",
        "\n",
        "# Используем метод для формирования последовательностей одинаковой длины\n",
        "from tensorflow.keras.preprocessing.sequence import pad_sequences \n",
        "\n",
        "# Импортируем оптимизаторы\n",
        "from tensorflow.keras.optimizers import RMSprop, Adam\n",
        "\n",
        "# Подключим функцию потерь\n",
        "from tensorflow.keras.losses import SparseCategoricalCrossentropy\n",
        "\n",
        "# Подключим numpy - библиотеку для работы с массивами данных\n",
        "import numpy as np \n",
        "\n",
        "# Импортируем pandas\n",
        "import pandas as pd\n",
        "\n",
        "# Подключим библиотеку для визуализации данных\n",
        "import matplotlib.pyplot as plt \n",
        "\n",
        "# Подключим модуль для определения форматирования и местоположения делений на осях графиков\n",
        "import matplotlib.ticker as ticker \n",
        "\n",
        "# Подключим модуль для разбивки данных на обучающую и тестовую выборки\n",
        "from sklearn.model_selection import train_test_split \n",
        "\n",
        "# Импортируем методы для отображения модели и преобразования в ОНЕ\n",
        "from tensorflow.keras.utils import to_categorical, plot_model\n",
        "\n",
        "# Подключим модуль для работы с регулярными выражениями\n",
        "import re \n",
        "\n",
        "# Подключим модуль для работы с временем\n",
        "import time\n",
        "\n",
        "# Подключим модуль для работы с операционной системой\n",
        "import os \n",
        "\n",
        "import gdown"
      ],
      "execution_count": null,
      "outputs": []
    },
    {
      "cell_type": "code",
      "source": [
        "# Подключаем диск\n",
        "gdown.download('https://storage.yandexcloud.net/aiueducation/Content/advanced/l3/9kdialogs.txt', None, quiet=True)"
      ],
      "metadata": {
        "colab": {
          "base_uri": "https://localhost:8080/",
          "height": 35
        },
        "id": "mTELieUaKiyl",
        "outputId": "024b9f5e-b7cb-4a31-b2ad-b17011a63e75"
      },
      "execution_count": null,
      "outputs": [
        {
          "output_type": "execute_result",
          "data": {
            "text/plain": [
              "'9kdialogs.txt'"
            ],
            "application/vnd.google.colaboratory.intrinsic+json": {
              "type": "string"
            }
          },
          "metadata": {},
          "execution_count": 2
        }
      ]
    },
    {
      "cell_type": "code",
      "metadata": {
        "id": "8O7TDn54-ATt"
      },
      "source": [
        "# Определим переменную с именем файла с датасетом\n",
        "path_to_file=\"9kdialogs.txt\""
      ],
      "execution_count": null,
      "outputs": []
    },
    {
      "cell_type": "code",
      "execution_count": null,
      "metadata": {
        "id": "pxQxiEnE3QmM"
      },
      "outputs": [],
      "source": [
        "# считываем данные\n",
        "with open('9kdialogs.txt', 'r') as f:     # Открываем файл на чтение\n",
        "  text = f.read()                                                               # Читаем весь файл\n",
        "\n",
        "  # Отпарсим текст, убрав знаки препинания, знаки перевода строки\n",
        "  text = text.replace('\\ufeff', '') \n",
        "  text = re.sub(r'[^А-я-]', ' ', text)\n",
        "text"
      ]
    },
    {
      "cell_type": "code",
      "execution_count": null,
      "metadata": {
        "id": "mBK1T2wt4PqC"
      },
      "outputs": [],
      "source": [
        "QnA = text.split('- -')[1:]                                                   # Разбиваем базу по диалогам"
      ]
    },
    {
      "cell_type": "code",
      "execution_count": null,
      "metadata": {
        "colab": {
          "base_uri": "https://localhost:8080/"
        },
        "id": "4Pjw_aZZ1X9b",
        "outputId": "ccd0ac77-e634-45a4-f995-98aa1af37e91"
      },
      "outputs": [
        {
          "output_type": "execute_result",
          "data": {
            "text/plain": [
              "([' Ты-то  чего  - А вы чего   ',\n",
              "  ' Ты откуда здесь взялся  - Из одной несбывшейся вероятности   ',\n",
              "  ' И когда ты успел две из них растранжирить  - Во сне   ',\n",
              "  ' Где ты им подвернулся  - Где  где    В  Белом   где же еще   ',\n",
              "  ' Ты чего  - Как  чего   Жабой давлюсь   ',\n",
              "  ' Что это было  - Коньяк   ',\n",
              "  ' Торман  что это было  - Кровь дракона   ',\n",
              "  ' Значит ты за ними не шел  - Да  не  знаю   ',\n",
              "  ' Вы врач  - Отчасти   ',\n",
              "  ' Что  это  Что это  Что это такое  - Симпатичный  городок     '],\n",
              " [' Как вы можете быть таким уверенным  - Элементарно   ',\n",
              "  ' А что делать будем  - Ждать  ',\n",
              "  ' Надеюсь  не до первой звезды  - Я тоже на это надеюсь   ',\n",
              "  ' За что  - Вы знаете за что   ',\n",
              "  ' Ты что-нибудь понимаешь  - Абсолютно ничего   ',\n",
              "  ' Обсудим это завтра  ладно  - Хорошо   ',\n",
              "  ' Кто услышит  - Кто-кто  Ну твой следователь   ',\n",
              "  ' Что - если  - Так  ничего   ',\n",
              "  ' Ну я пойду  - А  Иди  иди  Постой     ',\n",
              "  ' Может  стоило ее предупредить  - Может   '])"
            ]
          },
          "metadata": {},
          "execution_count": 6
        }
      ],
      "source": [
        "QnA[-10:],  QnA[:10]                                                                        # Проверяем"
      ]
    },
    {
      "cell_type": "code",
      "execution_count": null,
      "metadata": {
        "id": "PQ56ZsK14fN-"
      },
      "outputs": [],
      "source": [
        "# Разбиваем диалоги на вопросы и ответы\n",
        "\n",
        "# Создаем списки для ответов и вопросов\n",
        "questions = []\n",
        "answers = []\n",
        "k = 0                   # Переменная для подсчета ненужных данных\n",
        "for el in QnA:          # Идем по элементам в базе\n",
        "\n",
        "  # Используем конструкцию try - except для отработки исключений\n",
        "  try:\n",
        "    q, a = el.split('-')            # Делим данные по \"-\"\n",
        "    questions.append(q)             # Добавляем вопросы\n",
        "    answers.append(a)               # Добавляем ответы\n",
        "  except ValueError:\n",
        "    k+=1"
      ]
    },
    {
      "cell_type": "code",
      "execution_count": null,
      "metadata": {
        "colab": {
          "base_uri": "https://localhost:8080/"
        },
        "id": "FECi7j6q4tnO",
        "outputId": "100038d5-9933-48cd-e349-990a5cde3c3f"
      },
      "outputs": [
        {
          "output_type": "execute_result",
          "data": {
            "text/plain": [
              "1137"
            ]
          },
          "metadata": {},
          "execution_count": 8
        }
      ],
      "source": [
        "k # Смотрим сколько данных мы не считали"
      ]
    },
    {
      "cell_type": "markdown",
      "source": [
        "##SEC2SEC"
      ],
      "metadata": {
        "id": "lgTgTAhK3tZc"
      }
    },
    {
      "cell_type": "code",
      "execution_count": null,
      "metadata": {
        "id": "Ci-e6QLU7Fys"
      },
      "outputs": [],
      "source": [
        "enc_in = ['<START> '+ q for q in questions] # В данные для энкодера записываем вопросы, добавив каждому в начале тег <START>"
      ]
    },
    {
      "cell_type": "code",
      "execution_count": null,
      "metadata": {
        "colab": {
          "base_uri": "https://localhost:8080/"
        },
        "id": "5MDg6kFG7OhQ",
        "outputId": "4c5e8918-201f-4dfb-a30d-898260e22394"
      },
      "outputs": [
        {
          "output_type": "execute_result",
          "data": {
            "text/plain": [
              "['<START> <start> Как вы можете быть таким уверенным <end>',\n",
              " '<START> <start> А что делать будем <end>',\n",
              " '<START> <start> Надеюсь  не до первой звезды <end>',\n",
              " '<START> <start> За что <end>',\n",
              " '<START> <start> Обсудим это завтра  ладно <end>',\n",
              " '<START> <start> Ну я пойду <end>',\n",
              " '<START> <start> Может  стоило ее предупредить <end>',\n",
              " '<START> <start> А вы тут  что ли  не одна живете <end>',\n",
              " '<START> <start> В рублях или долларах <end>',\n",
              " '<START> <start> А теперь  значит  он уже столичная штучка <end>']"
            ]
          },
          "metadata": {},
          "execution_count": 55
        }
      ],
      "source": [
        "enc_in[:10] # Смотрим данные"
      ]
    },
    {
      "cell_type": "code",
      "execution_count": null,
      "metadata": {
        "id": "uHGvTUpQ7Sg-"
      },
      "outputs": [],
      "source": [
        "decoder_in = ['<START> ' + a for a in answers]   # Для декодера на вход создаем ответы с тегом старта\n",
        "decoder_out = [a + ' <END>' for a in answers]    # Для декодера на выход создаем ответы с тегом конца"
      ]
    },
    {
      "cell_type": "code",
      "execution_count": null,
      "metadata": {
        "colab": {
          "base_uri": "https://localhost:8080/"
        },
        "id": "esq-ubuj7dnd",
        "outputId": "cf8725c5-3531-46ce-835b-a5b45d50c216"
      },
      "outputs": [
        {
          "output_type": "execute_result",
          "data": {
            "text/plain": [
              "['<START> <start> Элементарно <end>',\n",
              " '<START> <start> Ждать <end>',\n",
              " '<START> <start> Я тоже на это надеюсь <end>',\n",
              " '<START> <start> Вы знаете за что <end>',\n",
              " '<START> <start> Хорошо <end>',\n",
              " '<START> <start> А  Иди  иди  Постой <end>',\n",
              " '<START> <start> Может <end>',\n",
              " '<START> <start> Нет  я живу здесь не одна <end>',\n",
              " '<START> <start> В долларах  конечно <end>',\n",
              " '<START> <start> Ну да  А что  ты его знаешь <end>']"
            ]
          },
          "metadata": {},
          "execution_count": 57
        }
      ],
      "source": [
        "decoder_in[:10] # Проверяем данные"
      ]
    },
    {
      "cell_type": "code",
      "execution_count": null,
      "metadata": {
        "colab": {
          "base_uri": "https://localhost:8080/"
        },
        "id": "pU6Ps6pX7ilK",
        "outputId": "a9a5b1a3-aebe-46b0-f54f-fa82a888e96b"
      },
      "outputs": [
        {
          "output_type": "execute_result",
          "data": {
            "text/plain": [
              "['<start> Элементарно <end> <END>',\n",
              " '<start> Ждать <end> <END>',\n",
              " '<start> Я тоже на это надеюсь <end> <END>',\n",
              " '<start> Вы знаете за что <end> <END>',\n",
              " '<start> Хорошо <end> <END>',\n",
              " '<start> А  Иди  иди  Постой <end> <END>',\n",
              " '<start> Может <end> <END>',\n",
              " '<start> Нет  я живу здесь не одна <end> <END>',\n",
              " '<start> В долларах  конечно <end> <END>',\n",
              " '<start> Ну да  А что  ты его знаешь <end> <END>']"
            ]
          },
          "metadata": {},
          "execution_count": 58
        }
      ],
      "source": [
        "decoder_out[:10] # Проверяем данные"
      ]
    },
    {
      "cell_type": "code",
      "execution_count": null,
      "metadata": {
        "id": "93y-GY-q6t6n"
      },
      "outputs": [],
      "source": [
        "num_words = 10000 # Ограничиваем данные на 10000 слов\n",
        "tokenizer = Tokenizer(num_words, filters='!\"#$%&()*+,-./:;=?@[\\\\]^_`{|}~\\t\\n', oov_token='<UNK>') # Создаем токенайзер на 10000 слов, с фильтром и токеном неизвестных слов"
      ]
    },
    {
      "cell_type": "code",
      "execution_count": null,
      "metadata": {
        "id": "Uni3eWLo692T"
      },
      "outputs": [],
      "source": [
        "# Обучаем токенайзре на всех трех текстах, которые мы создали\n",
        "tokenizer.fit_on_texts(enc_in)\n",
        "tokenizer.fit_on_texts(decoder_in)\n",
        "tokenizer.fit_on_texts(decoder_out)"
      ]
    },
    {
      "cell_type": "code",
      "execution_count": null,
      "metadata": {
        "id": "tuVoo6lJ7pqI"
      },
      "outputs": [],
      "source": [
        "tokenizer.index_word # Проверяем индексы слов"
      ]
    },
    {
      "cell_type": "code",
      "execution_count": null,
      "metadata": {
        "id": "_Y0eRqNi8Vmm"
      },
      "outputs": [],
      "source": [
        "# Преобразуем слова в последовательность индексов\n",
        "X_enc = tokenizer.texts_to_sequences(enc_in) \n",
        "X_dec = tokenizer.texts_to_sequences(decoder_in)\n",
        "Y = tokenizer.texts_to_sequences(decoder_out)"
      ]
    },
    {
      "cell_type": "code",
      "execution_count": null,
      "metadata": {
        "id": "fxsYpccCNobu"
      },
      "outputs": [],
      "source": [
        "threshold = 15                         # Задаем порог\n",
        "idx = [len(y) < threshold for y in Y]  # Удаляем предложения, длина которых больше заданного порога"
      ]
    },
    {
      "cell_type": "code",
      "execution_count": null,
      "metadata": {
        "colab": {
          "base_uri": "https://localhost:8080/"
        },
        "id": "L3pv8926Nuez",
        "outputId": "3cbc48d5-a1cf-47e0-e01b-89b29b7e3c52"
      },
      "outputs": [
        {
          "output_type": "execute_result",
          "data": {
            "text/plain": [
              "7791"
            ]
          },
          "metadata": {},
          "execution_count": 63
        }
      ],
      "source": [
        "sum(idx) # Проверяем количество оставшихся предложений"
      ]
    },
    {
      "cell_type": "code",
      "execution_count": null,
      "metadata": {
        "colab": {
          "base_uri": "https://localhost:8080/"
        },
        "id": "lbBNHsH-8ezq",
        "outputId": "2156a356-7f20-4466-8472-95965277bc0b"
      },
      "outputs": [
        {
          "output_type": "execute_result",
          "data": {
            "text/plain": [
              "13"
            ]
          },
          "metadata": {},
          "execution_count": 64
        }
      ],
      "source": [
        "max_q_len = max([len(el) for el in X_enc]); max_q_len # максимальная длина вопросов"
      ]
    },
    {
      "cell_type": "code",
      "execution_count": null,
      "metadata": {
        "colab": {
          "base_uri": "https://localhost:8080/"
        },
        "id": "xMUm4x7r8ga3",
        "outputId": "f731a9bc-360f-4c09-af7c-7ae3e51055ee"
      },
      "outputs": [
        {
          "output_type": "execute_result",
          "data": {
            "text/plain": [
              "14"
            ]
          },
          "metadata": {},
          "execution_count": 65
        }
      ],
      "source": [
        "max_a_len = max([len(el) for el in X_dec]); max_a_len # максимальная длина ответов"
      ]
    },
    {
      "cell_type": "code",
      "execution_count": null,
      "metadata": {
        "id": "lQ4jCBPQ8-TI"
      },
      "outputs": [],
      "source": [
        "# Выравниваем размеры векторов для вопросов/ответов\n",
        "X_enc = pad_sequences(X_enc, max_q_len, padding='post', truncating='post')\n",
        "X_dec = pad_sequences(X_dec, max_a_len, padding='post', truncating='post')\n",
        "Y = pad_sequences(Y, max_a_len, padding='post', truncating='post')"
      ]
    },
    {
      "cell_type": "code",
      "execution_count": null,
      "metadata": {
        "id": "yuNfoA3XPMvd"
      },
      "outputs": [],
      "source": [
        "# Оставляем предложения, длина которых меньше заданного порога\n",
        "X_enc = X_enc[idx] \n",
        "X_dec = X_dec[idx]\n",
        "Y = Y[idx]"
      ]
    },
    {
      "cell_type": "code",
      "execution_count": null,
      "metadata": {
        "id": "Et9HdSnrYL5V"
      },
      "outputs": [],
      "source": [
        "hidden_dim = 256 # размер скрытого пространства"
      ]
    },
    {
      "cell_type": "code",
      "execution_count": null,
      "metadata": {
        "id": "ckbwHTAB0BJN"
      },
      "outputs": [],
      "source": [
        "# Создаем энкодер\n",
        "encoder_input = Input((None,))                                                  # Создаем входной слой для энкодера\n",
        "enc_emb = Embedding(num_words, hidden_dim)(encoder_input)                       # Создаем Embedding слоя на количество слов num_words \n",
        "_, *states = LSTM(hidden_dim, return_state=True)(enc_emb)                       # LSTM возвращает элементы y, h, c\n",
        "\n",
        "encoder = Model(encoder_input, states)                                          # Собираем модель энкодера\n",
        "\n",
        "# Создаем декодер\n",
        "decoder_input = Input((None,))                                                                        # Создаем входнйо слой для декодера\n",
        "dec_emb = Embedding(num_words, hidden_dim, name='emb')(decoder_input)                                 # Создаем Embedding слоя на количество слов num_words \n",
        "dec_lstm = LSTM(hidden_dim, return_sequences=True, name='lstm1')(dec_emb, initial_state = states)     # Создаем LSTM - слой\n",
        "dec_out = Dense(num_words, activation='softmax', name='dense')(dec_lstm)                              # Выходной слой на количество num_words\n",
        "\n",
        "# Собираем модель целиком\n",
        "seq2seq = Model([encoder_input, decoder_input], dec_out)"
      ]
    },
    {
      "cell_type": "code",
      "execution_count": null,
      "metadata": {
        "colab": {
          "base_uri": "https://localhost:8080/",
          "height": 272
        },
        "id": "u4JUdiBJ_EQ2",
        "outputId": "d4bbffe0-7ff3-4d36-d4e4-cccbb80bd6a3"
      },
      "outputs": [
        {
          "output_type": "execute_result",
          "data": {
            "text/plain": [
              "<IPython.core.display.Image object>"
            ],
            "image/png": "[encoded data removed]"
          },
          "metadata": {},
          "execution_count": 70
        }
      ],
      "source": [
        "plot_model(encoder) # Выводим модель энкодера"
      ]
    },
    {
      "cell_type": "code",
      "execution_count": null,
      "metadata": {
        "colab": {
          "base_uri": "https://localhost:8080/",
          "height": 466
        },
        "id": "_dfNnQPT_MeX",
        "outputId": "a06d772b-34cb-445a-84b7-1e99916be256"
      },
      "outputs": [
        {
          "output_type": "execute_result",
          "data": {
            "text/plain": [
              "<IPython.core.display.Image object>"
            ],
            "image/png": "[encoded data removed]"
          },
          "metadata": {},
          "execution_count": 71
        }
      ],
      "source": [
        "plot_model(seq2seq) # Выводим всю модель"
      ]
    },
    {
      "cell_type": "code",
      "execution_count": null,
      "metadata": {
        "id": "1AupPWAT_YHc"
      },
      "outputs": [],
      "source": [
        "# Компилируем модель с такими лосом, оптимизатором и метрикой\n",
        "seq2seq.compile(loss=\"sparse_categorical_crossentropy\", optimizer='Adam', metrics=['sparse_categorical_accuracy'])"
      ]
    },
    {
      "cell_type": "code",
      "execution_count": null,
      "metadata": {
        "colab": {
          "base_uri": "https://localhost:8080/"
        },
        "id": "fidmQsfjUkwP",
        "outputId": "48441a23-78cc-4cf3-ba9d-f7909d6487dc"
      },
      "outputs": [
        {
          "output_type": "stream",
          "name": "stdout",
          "text": [
            "Model: \"model_1\"\n",
            "__________________________________________________________________________________________________\n",
            " Layer (type)                   Output Shape         Param #     Connected to                     \n",
            "==================================================================================================\n",
            " input_1 (InputLayer)           [(None, None)]       0           []                               \n",
            "                                                                                                  \n",
            " input_2 (InputLayer)           [(None, None)]       0           []                               \n",
            "                                                                                                  \n",
            " embedding_2 (Embedding)        (None, None, 256)    2560000     ['input_1[0][0]']                \n",
            "                                                                                                  \n",
            " emb (Embedding)                (None, None, 256)    2560000     ['input_2[0][0]']                \n",
            "                                                                                                  \n",
            " lstm (LSTM)                    [(None, 256),        525312      ['embedding_2[0][0]']            \n",
            "                                 (None, 256),                                                     \n",
            "                                 (None, 256)]                                                     \n",
            "                                                                                                  \n",
            " lstm1 (LSTM)                   (None, None, 256)    525312      ['emb[0][0]',                    \n",
            "                                                                  'lstm[0][1]',                   \n",
            "                                                                  'lstm[0][2]']                   \n",
            "                                                                                                  \n",
            " dense (Dense)                  (None, None, 10000)  2570000     ['lstm1[0][0]']                  \n",
            "                                                                                                  \n",
            "==================================================================================================\n",
            "Total params: 8,740,624\n",
            "Trainable params: 8,740,624\n",
            "Non-trainable params: 0\n",
            "__________________________________________________________________________________________________\n"
          ]
        }
      ],
      "source": [
        "# Выводим summary модели\n",
        "seq2seq.summary()"
      ]
    },
    {
      "cell_type": "code",
      "execution_count": null,
      "metadata": {
        "colab": {
          "base_uri": "https://localhost:8080/"
        },
        "id": "W2iFUmcG_OY2",
        "outputId": "2704c11c-28af-494e-ebe6-57479de57daa"
      },
      "outputs": [
        {
          "output_type": "stream",
          "name": "stdout",
          "text": [
            "Epoch 1/30\n",
            "208/208 [==============================] - 7s 19ms/step - loss: 2.3637 - sparse_categorical_accuracy: 0.7407 - val_loss: 1.7004 - val_sparse_categorical_accuracy: 0.7934\n",
            "Epoch 2/30\n",
            "208/208 [==============================] - 3s 15ms/step - loss: 1.5518 - sparse_categorical_accuracy: 0.7970 - val_loss: 1.7027 - val_sparse_categorical_accuracy: 0.7934\n",
            "Epoch 3/30\n",
            "208/208 [==============================] - 3s 15ms/step - loss: 1.4916 - sparse_categorical_accuracy: 0.7979 - val_loss: 1.7162 - val_sparse_categorical_accuracy: 0.7961\n",
            "Epoch 4/30\n",
            "208/208 [==============================] - 3s 15ms/step - loss: 1.4525 - sparse_categorical_accuracy: 0.7989 - val_loss: 1.7380 - val_sparse_categorical_accuracy: 0.7964\n",
            "Epoch 5/30\n",
            "208/208 [==============================] - 3s 15ms/step - loss: 1.4197 - sparse_categorical_accuracy: 0.7992 - val_loss: 1.7609 - val_sparse_categorical_accuracy: 0.7957\n",
            "Epoch 6/30\n",
            "208/208 [==============================] - 3s 15ms/step - loss: 1.3868 - sparse_categorical_accuracy: 0.7994 - val_loss: 1.7614 - val_sparse_categorical_accuracy: 0.7961\n",
            "Epoch 7/30\n",
            "208/208 [==============================] - 3s 15ms/step - loss: 1.3540 - sparse_categorical_accuracy: 0.8005 - val_loss: 1.7787 - val_sparse_categorical_accuracy: 0.7964\n",
            "Epoch 8/30\n",
            "208/208 [==============================] - 3s 15ms/step - loss: 1.3255 - sparse_categorical_accuracy: 0.8008 - val_loss: 1.7975 - val_sparse_categorical_accuracy: 0.7962\n",
            "Epoch 9/30\n",
            "208/208 [==============================] - 3s 15ms/step - loss: 1.2912 - sparse_categorical_accuracy: 0.8018 - val_loss: 1.8127 - val_sparse_categorical_accuracy: 0.7957\n",
            "Epoch 10/30\n",
            "208/208 [==============================] - 3s 15ms/step - loss: 1.2586 - sparse_categorical_accuracy: 0.8028 - val_loss: 1.8351 - val_sparse_categorical_accuracy: 0.7961\n",
            "Epoch 11/30\n",
            "208/208 [==============================] - 3s 15ms/step - loss: 1.2250 - sparse_categorical_accuracy: 0.8042 - val_loss: 1.8529 - val_sparse_categorical_accuracy: 0.7964\n",
            "Epoch 12/30\n",
            "208/208 [==============================] - 3s 16ms/step - loss: 1.1895 - sparse_categorical_accuracy: 0.8052 - val_loss: 1.8747 - val_sparse_categorical_accuracy: 0.7945\n",
            "Epoch 13/30\n",
            "208/208 [==============================] - 3s 17ms/step - loss: 1.1546 - sparse_categorical_accuracy: 0.8072 - val_loss: 1.8922 - val_sparse_categorical_accuracy: 0.7911\n",
            "Epoch 14/30\n",
            "208/208 [==============================] - 3s 16ms/step - loss: 1.1185 - sparse_categorical_accuracy: 0.8091 - val_loss: 1.9291 - val_sparse_categorical_accuracy: 0.7924\n",
            "Epoch 15/30\n",
            "208/208 [==============================] - 3s 15ms/step - loss: 1.0815 - sparse_categorical_accuracy: 0.8120 - val_loss: 1.9489 - val_sparse_categorical_accuracy: 0.7903\n",
            "Epoch 16/30\n",
            "208/208 [==============================] - 3s 15ms/step - loss: 1.0436 - sparse_categorical_accuracy: 0.8162 - val_loss: 1.9737 - val_sparse_categorical_accuracy: 0.7917\n",
            "Epoch 17/30\n",
            "208/208 [==============================] - 3s 15ms/step - loss: 1.0045 - sparse_categorical_accuracy: 0.8203 - val_loss: 1.9978 - val_sparse_categorical_accuracy: 0.7885\n",
            "Epoch 18/30\n",
            "208/208 [==============================] - 3s 15ms/step - loss: 0.9623 - sparse_categorical_accuracy: 0.8259 - val_loss: 2.0302 - val_sparse_categorical_accuracy: 0.7852\n",
            "Epoch 19/30\n",
            "208/208 [==============================] - 3s 15ms/step - loss: 0.9203 - sparse_categorical_accuracy: 0.8325 - val_loss: 2.0537 - val_sparse_categorical_accuracy: 0.7859\n",
            "Epoch 20/30\n",
            "208/208 [==============================] - 3s 15ms/step - loss: 0.8785 - sparse_categorical_accuracy: 0.8393 - val_loss: 2.0748 - val_sparse_categorical_accuracy: 0.7829\n",
            "Epoch 21/30\n",
            "208/208 [==============================] - 3s 16ms/step - loss: 0.8371 - sparse_categorical_accuracy: 0.8462 - val_loss: 2.1097 - val_sparse_categorical_accuracy: 0.7831\n",
            "Epoch 22/30\n",
            "208/208 [==============================] - 4s 17ms/step - loss: 0.7962 - sparse_categorical_accuracy: 0.8526 - val_loss: 2.1417 - val_sparse_categorical_accuracy: 0.7785\n",
            "Epoch 23/30\n",
            "208/208 [==============================] - 3s 16ms/step - loss: 0.7561 - sparse_categorical_accuracy: 0.8598 - val_loss: 2.1707 - val_sparse_categorical_accuracy: 0.7783\n",
            "Epoch 24/30\n",
            "208/208 [==============================] - 3s 15ms/step - loss: 0.7168 - sparse_categorical_accuracy: 0.8656 - val_loss: 2.1959 - val_sparse_categorical_accuracy: 0.7783\n",
            "Epoch 25/30\n",
            "208/208 [==============================] - 3s 15ms/step - loss: 0.6807 - sparse_categorical_accuracy: 0.8711 - val_loss: 2.2229 - val_sparse_categorical_accuracy: 0.7753\n",
            "Epoch 26/30\n",
            "208/208 [==============================] - 3s 15ms/step - loss: 0.6444 - sparse_categorical_accuracy: 0.8770 - val_loss: 2.2593 - val_sparse_categorical_accuracy: 0.7739\n",
            "Epoch 27/30\n",
            "208/208 [==============================] - 3s 15ms/step - loss: 0.6099 - sparse_categorical_accuracy: 0.8818 - val_loss: 2.2800 - val_sparse_categorical_accuracy: 0.7764\n",
            "Epoch 28/30\n",
            "208/208 [==============================] - 3s 15ms/step - loss: 0.5766 - sparse_categorical_accuracy: 0.8877 - val_loss: 2.3155 - val_sparse_categorical_accuracy: 0.7762\n",
            "Epoch 29/30\n",
            "208/208 [==============================] - 3s 15ms/step - loss: 0.5460 - sparse_categorical_accuracy: 0.8924 - val_loss: 2.3457 - val_sparse_categorical_accuracy: 0.7725\n",
            "Epoch 30/30\n",
            "208/208 [==============================] - 3s 15ms/step - loss: 0.5162 - sparse_categorical_accuracy: 0.8980 - val_loss: 2.3828 - val_sparse_categorical_accuracy: 0.7724\n"
          ]
        },
        {
          "output_type": "execute_result",
          "data": {
            "text/plain": [
              "<keras.callbacks.History at 0x7ff16e796110>"
            ]
          },
          "metadata": {},
          "execution_count": 74
        }
      ],
      "source": [
        "# Обучаем модель\n",
        "seq2seq.fit([X_enc, X_dec], Y, batch_size=30, epochs=30, validation_split=0.2)"
      ]
    },
    {
      "cell_type": "code",
      "execution_count": null,
      "metadata": {
        "id": "U5ojkrFS_gtz"
      },
      "outputs": [],
      "source": [
        "# Задаём входные слои\n",
        "decoder_input = Input((None,))\n",
        "h_input = Input((hidden_dim,))\n",
        "c_input = Input((hidden_dim,))\n",
        "\n",
        "states = [h_input, c_input] # Собираем вместе 2 вектора состояния\n",
        "dec_emb = Embedding(num_words, hidden_dim, weights=seq2seq.get_layer(name='emb').get_weights(), name='emb')(decoder_input)                                # Создаем Embedding-слой, которому дополнительно указываем весовые коэффициенты для слоя с указанным именем в модели seq2seq\n",
        "lstm, h, c = LSTM(hidden_dim, return_state=True, weights=seq2seq.get_layer(name='lstm1').get_weights(), name='lstm1')(dec_emb, initial_state=states)      # Создаем LSTM-слой, которому дополнительно указываем весовые коэффициенты для слоя с указанным именем в модели seq2seq\n",
        "out = Dense(num_words, activation='softmax', weights=seq2seq.get_layer(name='dense').get_weights(), name='dense')(lstm)                                   # Создаем Dense-слой, которому дополнительно указываем весовые коэффициенты для слоя с указанным именем в модели seq2seq\n",
        "\n",
        "decoder = Model([decoder_input]+states, [out, h, c]) # Собираем декодер"
      ]
    },
    {
      "cell_type": "code",
      "execution_count": null,
      "metadata": {
        "colab": {
          "base_uri": "https://localhost:8080/",
          "height": 369
        },
        "id": "MlThgNe1BKdJ",
        "outputId": "09a6cc6b-6b53-4784-8308-0b075d7fc2fe"
      },
      "outputs": [
        {
          "output_type": "execute_result",
          "data": {
            "text/plain": [
              "<IPython.core.display.Image object>"
            ],
            "image/png": "[encoded data removed]"
          },
          "metadata": {},
          "execution_count": 76
        }
      ],
      "source": [
        "plot_model(decoder) # Выводим структуру декодера"
      ]
    },
    {
      "cell_type": "code",
      "execution_count": null,
      "metadata": {
        "id": "ON4pCf42Bxin"
      },
      "outputs": [],
      "source": [
        "def decode_sequence(input_seq):\n",
        "\n",
        "\n",
        "  '''\n",
        "  Функция обработки предложения и предсказывания результата через декодер\n",
        "\n",
        "  Args:\n",
        "    input_seq - входное предложение формата str\n",
        "    \n",
        "  Returns:\n",
        "    Вовзращает предложение, получившееся  после обработки input_seq через нашу модель\n",
        "  '''\n",
        "\n",
        "  states = encoder.predict(input_seq)                                           # возвращаем состояние [h, c]\n",
        "  prev_token = np.zeros((1,1))                                                  # создаем элемент с 0 для начального токена\n",
        "  prev_token[0,0] = tokenizer.word_index['<start>']                             # присваиваем первому символу \"старт\"\n",
        "\n",
        "  Flag = False                                                                  # флаг остановки\n",
        "  decoded_sentence = ''                                                         # обнуляем слово\n",
        "\n",
        " \n",
        "  while not Flag:                                                               # Запускаем цикл для предсказания следующего состояния\n",
        "    pred, *states= decoder.predict([prev_token] + states)                       # Предсказываем состояние с учетом предыдущих итераций  \n",
        "    next_token = np.argmax(pred, axis=-1)                                       # переводим декодированный токен в символ\n",
        "    sampled_word = tokenizer.sequences_to_texts([next_token])[0]                # Переводим последовательность в текст\n",
        "    \n",
        "    decoded_sentence += sampled_word +' '                                       # Все присваиваем decoded_sentence\n",
        "\n",
        "    # Если в слове находим последний символ или превысили длину слова, то завершаем работу\n",
        "    if (sampled_word == '<end>' or\n",
        "      len(decoded_sentence) > max_a_len+1):\n",
        "      print(pred.shape)\n",
        "      Flag = True\n",
        "\n",
        "    prev_token[0,0] = next_token \n",
        "\n",
        "  return decoded_sentence                                                       # Возвращаем предложение"
      ]
    },
    {
      "cell_type": "code",
      "execution_count": null,
      "metadata": {
        "colab": {
          "base_uri": "https://localhost:8080/"
        },
        "id": "zK4LdJ-eCnZX",
        "outputId": "08633033-eb90-485a-a5ec-b618efe88a6d"
      },
      "outputs": [
        {
          "output_type": "stream",
          "name": "stdout",
          "text": [
            "Введите предложение: какая погода сегодня?\n",
            "(1, 10000)\n",
            "<start> вон там \n",
            "Введите предложение: Пойдем гулять\n",
            "(1, 10000)\n",
            "<start> точно <end> \n",
            "Введите предложение: зачем тебе это?\n",
            "(1, 10000)\n",
            "<start> вот <end> \n",
            "Введите предложение: почему ты не пришел?\n",
            "(1, 10000)\n",
            "<start> я не знаю \n",
            "Введите предложение: нужно переделать работу\n",
            "(1, 10000)\n",
            "<start> я <end> \n"
          ]
        }
      ],
      "source": [
        "for i in range(5):  \n",
        "    sent = input('Введите предложение: ')  # Вручную вводим фразу\n",
        "    sent = '<start> ' + sent               # Добавляем тег старта\n",
        "    x = pad_sequences(tokenizer.texts_to_sequences([sent]), maxlen=max_q_len, padding='post', truncating='post') # Выравниваем предложение\n",
        "    print(decode_sequence(x))              # Восстанавливаем предскзаание"
      ]
    },
    {
      "cell_type": "markdown",
      "source": [
        "## Attention"
      ],
      "metadata": {
        "id": "GNH48sP-3jp6"
      }
    },
    {
      "cell_type": "markdown",
      "metadata": {
        "id": "pGAVJe9iynJi"
      },
      "source": [
        "Определим функцию для подготовки предложений из словаря для обучения нейронной  сети. Добавим пробелы между словами и знаками препинаний, служебные символы заменим на пробелы, уберем пробелы в начале и конце фразы., добавим тег `< start >` в начало фразы, `< end >` в конец:"
      ]
    },
    {
      "cell_type": "code",
      "metadata": {
        "id": "aWA1mr0Rqq_9"
      },
      "source": [
        "def preprocess_sentence(phrases): # Функция принимает содержимое словаря\n",
        "\n",
        "  # Разделяем пробелами слова и знаки препинания(\"А как насчет тебя? \" -> \"А как насчет тебя ? \") \n",
        "  #phrases = re.sub(r\"([?.!,;:])\", r\" \\1 \", phrases) # r\" \\1 \" берёт значения 1й группы в скобках; обрамляем указанные символы пробелами\n",
        "\n",
        "  # Заменяем всё на пробелы, за исключением (a-zA-Zа-яёА-ЯЁ?.!,;:)\n",
        "  #phrases = re.sub(r\"[^a-zA-Zа-яёА-ЯЁ?.!,;:]+\", \" \", phrases) \n",
        "  \n",
        "  # Получаем строку без случайных лишних пробелов в конце фраз(rstrip удаляет с конца строки)\n",
        "  phrases = phrases.rstrip().strip()      \n",
        "\n",
        "  # Для нашей модели обозначим тегами начало и конец предложения  \n",
        "  phrases = '<start> ' + phrases + ' <end>' \n",
        "\n",
        "  # Функция возвращает предобработанные фразы\n",
        "  return phrases "
      ],
      "execution_count": null,
      "outputs": []
    },
    {
      "cell_type": "code",
      "source": [
        "# Разбиваем диалоги на вопросы и ответы\n",
        "\n",
        "# Создаем списки для ответов и вопросов\n",
        "questions = []\n",
        "answers = []\n",
        "k = 0                   # Переменная для подсчета ненужных данных\n",
        "for el in QnA:          # Идем по элементам в базе\n",
        "\n",
        "  # Используем конструкцию try - except для отработки исключений\n",
        "  try:\n",
        "    q, a = el.split('-')            # Делим данные по \"-\"\n",
        "\n",
        "    q = preprocess_sentence(q)\n",
        "    a = preprocess_sentence(a)\n",
        "\n",
        "    questions.append(q)             # Добавляем вопросы\n",
        "    answers.append(a)               # Добавляем ответы\n",
        "  except ValueError:\n",
        "    k+=1"
      ],
      "metadata": {
        "id": "kO-I5sYP7NVg"
      },
      "execution_count": null,
      "outputs": []
    },
    {
      "cell_type": "code",
      "source": [
        "questions[:3], answers[:3]"
      ],
      "metadata": {
        "colab": {
          "base_uri": "https://localhost:8080/"
        },
        "id": "X8EHjBtz77ho",
        "outputId": "80d12fce-76ab-4e2d-b245-cd333409c723"
      },
      "execution_count": null,
      "outputs": [
        {
          "output_type": "execute_result",
          "data": {
            "text/plain": [
              "(['<start> Как вы можете быть таким уверенным <end>',\n",
              "  '<start> А что делать будем <end>',\n",
              "  '<start> Надеюсь  не до первой звезды <end>'],\n",
              " ['<start> Элементарно <end>',\n",
              "  '<start> Ждать <end>',\n",
              "  '<start> Я тоже на это надеюсь <end>'])"
            ]
          },
          "metadata": {},
          "execution_count": 81
        }
      ]
    },
    {
      "cell_type": "markdown",
      "metadata": {
        "id": "plOf8RMSPSz-"
      },
      "source": [
        "Создадим функцию для получения максимальной длины фразы из списка. На вход принимает список фраз. Перебирает список, выбираем максимальное значение длины"
      ]
    },
    {
      "cell_type": "code",
      "metadata": {
        "id": "J5xw1cPZqu5d"
      },
      "source": [
        "# Создадим мини-функцию, возвращающую максимальную длину тензора\n",
        "def max_length(tensor): # Функция принимает на вход тензор(фразы в виде последовательности индексов)\n",
        "\n",
        "  # Вернем значение максимальной длины его элемента \n",
        "  return max(len(t) for t in tensor) "
      ],
      "execution_count": null,
      "outputs": []
    },
    {
      "cell_type": "markdown",
      "metadata": {
        "id": "bg-GwLJoPtyJ"
      },
      "source": [
        "Функция преобразовывает тексты в последовательности индексов. \n",
        "Используем стандартный токенайзер из модуля Keras. На вход принимает текст, обучает на нем токенайзер. Переводит текст в токены. Отдает полученые токены и токенайзер"
      ]
    },
    {
      "cell_type": "code",
      "metadata": {
        "id": "VTLSJIakPmEz"
      },
      "source": [
        "def tokenize(language): # Функция принимает текст одного из языков\n",
        "\n",
        "  language_tokenizer = Tokenizer(filters='!\"#$%&()*+,-./:;=?@[\\\\]^_`{|}~\\t\\n', oov_token='<UNK>')             # Вызываем класс Токенизатор\n",
        "  language_tokenizer.fit_on_texts(language)                # \"скармливаем\" ему тексты для обработки и сборки словаря частотности\n",
        "  tensor = language_tokenizer.texts_to_sequences(language) # Разбиваем текст фраз на последовательности индексов\n",
        "  tensor = pad_sequences(tensor, padding='post')           # Делаем последовательности фиксированной длины, заполняя нулями более короткие фразы\n",
        "\n",
        "  # Возвращаем последовательность индексов(назовем ее тензор) и токенизатор\n",
        "  return tensor, language_tokenizer "
      ],
      "execution_count": null,
      "outputs": []
    },
    {
      "cell_type": "markdown",
      "metadata": {
        "id": "tNNNJMfvQBP6"
      },
      "source": [
        "Функция формирующая готовый датасет. Получает на вход путь к файлу с текстами и необходимый размер готового датасета\n"
      ]
    },
    {
      "cell_type": "code",
      "metadata": {
        "id": "yaKt_YpuPmbQ"
      },
      "source": [
        "def load_dataset(questions, answers): # Необходимый объем датасета\n",
        "\n",
        "    # Разбиваем текст на последовательность индексов(назовем ее тензор)\n",
        "    input_tensor, inp_language_tokenizer = tokenize(questions)    # Формируем тензоры и токенизатор\n",
        "    target_tensor, targ_language_tokenizer = tokenize(answers) # Формируем тензоры и токенизатор\n",
        "\n",
        "    # Функция вернёт: тензор для русского языка, для английского языка; токенизаторы для русского и английского языков\n",
        "    return input_tensor, target_tensor, inp_language_tokenizer, targ_language_tokenizer"
      ],
      "execution_count": null,
      "outputs": []
    },
    {
      "cell_type": "code",
      "metadata": {
        "id": "GPfw_d52qxtK"
      },
      "source": [
        "input_tensor, target_tensor, inp_language_tokenizer, targ_language_tokenizer = load_dataset(questions, answers)\n",
        "\n",
        "# Вычислим максимальные длины тензоров для английского и русского языков, используя ранее заданную функцию\n",
        "max_length_targ, max_length_inp = max_length(target_tensor), max_length(input_tensor)\n",
        "\n",
        "# Создаем тренировочную и тестовую выборки по формуле 80/20\n",
        "input_tensor_train, input_tensor_val, target_tensor_train, target_tensor_val = train_test_split(input_tensor, target_tensor, test_size=0.2)"
      ],
      "execution_count": null,
      "outputs": []
    },
    {
      "cell_type": "markdown",
      "metadata": {
        "id": "_UCqJHiw5ikC"
      },
      "source": [
        "Создадим вспомогательную функцию для вывода слова фразы и его индекса. На вход подаются токенайзер и фраза:"
      ]
    },
    {
      "cell_type": "code",
      "metadata": {
        "id": "e_Xhk8pb5byY"
      },
      "source": [
        "# Визуализируем собранные данные\n",
        "\n",
        "def convert(language_tokenizer,  # Токенайзер\n",
        "            tensor):             # Список индексов слов\n",
        "            \n",
        "  #  Цикл по токенам во фразе\n",
        "  for t in tensor:  \n",
        "    if t!=0:                                                        # Если токен не 0. Т.е. не мусор в конце фразы\n",
        "      print (\"%d ----> %s\" % (t, language_tokenizer.index_word[t])) # Выводи токен и соответствующее слово\n",
        "\n"
      ],
      "execution_count": null,
      "outputs": []
    },
    {
      "cell_type": "markdown",
      "metadata": {
        "id": "A6tkpocE6X_3"
      },
      "source": [
        "Посмотрим на примеры\n",
        "В первом блоке выведем русскую фразу и ее токен\n",
        "Во втором агнлийскую.\n",
        "\n",
        "Далее выводим статистику по датасету"
      ]
    },
    {
      "cell_type": "code",
      "metadata": {
        "id": "v2XeriQf5fVx",
        "colab": {
          "base_uri": "https://localhost:8080/"
        },
        "outputId": "f3618ed5-1bab-4e84-8c5e-d079d2f557ee"
      },
      "source": [
        "print (\"Фраза вопрос; соответствие индекса и слова\")   \n",
        "convert(inp_language_tokenizer, input_tensor_train[0])           # Выведем нулевую пару из русского датасета\n",
        "print ()    \n",
        "\n",
        "print (\"Фраза ответ; соответствие индекса и слова\")\n",
        "convert(targ_language_tokenizer, target_tensor_train[0])         # Выведем нулевую пару из агнлийского датасета\n",
        "print ()   \n",
        "                                                      \n",
        "print(\"вопрос тренировочная: \" , len(input_tensor_train), \"фраз; \", \"ответ тренировочная: \", len(target_tensor_train), \"фраз\")# Выведем статистику по обучающей выборке\n",
        "print(\"вопрос тестовая: \", len(input_tensor_val), \"фраз; \", \"ответ тестовая: \", len(target_tensor_val), \"фраз\")               # Выведем статистику по тестовой выборке"
      ],
      "execution_count": null,
      "outputs": [
        {
          "output_type": "stream",
          "name": "stdout",
          "text": [
            "Фраза вопрос; соответствие индекса и слова\n",
            "2 ----> <start>\n",
            "462 ----> здравствуйте\n",
            "100 ----> могу\n",
            "18 ----> я\n",
            "354 ----> видеть\n",
            "3615 ----> настю\n",
            "3 ----> <end>\n",
            "\n",
            "Фраза ответ; соответствие индекса и слова\n",
            "2 ----> <start>\n",
            "19 ----> конечно\n",
            "352 ----> проходите\n",
            "3 ----> <end>\n",
            "\n",
            "вопрос тренировочная:  6232 фраз;  ответ тренировочная:  6232 фраз\n",
            "вопрос тестовая:  1559 фраз;  ответ тестовая:  1559 фраз\n"
          ]
        }
      ]
    },
    {
      "cell_type": "markdown",
      "metadata": {
        "id": "e3AgPtOj83H9"
      },
      "source": [
        "Создаем `tf.data` датасет (Раздел `tf.data.Dataset API` предлагает построить готовый конвейер для обучения моделей)\n"
      ]
    },
    {
      "cell_type": "code",
      "metadata": {
        "id": "MuEJJsHy9rp5"
      },
      "source": [
        "# Определим постоянные \n",
        "\n",
        "BUFFER_SIZE = len(input_tensor_train)                     # Укажем что случайно сэмплировать будем по всей длине обучающейся выборки\n",
        "BATCH_SIZE = 256                                          # Указываем размер батча - меньший размер - быстрее лосс уменьшается\n",
        "steps_per_epoch = len(input_tensor_train)//BATCH_SIZE     # Укажем количество шагов в одной эпохе\n",
        "embedding_dim = 256                                       # Размерность эмбеддинга, векторного пространства - можно больше\n",
        "units = 1024                                              # Задаем размер слоя(количество нейронов в слое) "
      ],
      "execution_count": null,
      "outputs": []
    },
    {
      "cell_type": "code",
      "metadata": {
        "id": "SB82awfvDB6o"
      },
      "source": [
        "# Задаем размер русского словаря\n",
        "vocab_inp_size = len(inp_language_tokenizer.word_index)+1 \n",
        "\n",
        "# Задаем размер английского словаря\n",
        "vocab_tar_size = len(targ_language_tokenizer.word_index)+1 \n",
        "\n",
        "# Создаём датасет из массивов Numpy(рус и анг тренировочные фразы) со случайной подачей тренировочных сэмплов в процессе обучения\n",
        "dataset = tf.data.Dataset.from_tensor_slices((input_tensor_train, target_tensor_train)).shuffle(BUFFER_SIZE)\n",
        "\n",
        "# Передаем в датасет размер батча и указываем, что если в тренировке последний батч окажется неполным, то опустим его\n",
        "dataset = dataset.batch(BATCH_SIZE, drop_remainder=True)\n"
      ],
      "execution_count": null,
      "outputs": []
    },
    {
      "cell_type": "code",
      "metadata": {
        "id": "HDgb_Z7y98ir",
        "colab": {
          "base_uri": "https://localhost:8080/"
        },
        "outputId": "c4d21598-9e26-4bb6-b061-67439eb53b59"
      },
      "source": [
        "# Посмотрим на форму примеров полученных батчей\n",
        "\n",
        "example_input_batch, example_target_batch = next(iter(dataset))\n",
        "example_input_batch.shape, example_target_batch.shape"
      ],
      "execution_count": null,
      "outputs": [
        {
          "output_type": "execute_result",
          "data": {
            "text/plain": [
              "(TensorShape([256, 12]), TensorShape([256, 13]))"
            ]
          },
          "metadata": {},
          "execution_count": 90
        }
      ]
    },
    {
      "cell_type": "markdown",
      "metadata": {
        "id": "EZE7WSCKQ4-H"
      },
      "source": [
        "Вспомним нашу схему - сеть состоит их кодера, декодера и блока attention.\n",
        "\n",
        "Давайте начнем оформлять кодер в виде класса. В этом примере кодер состоит из блоков `Embedding` и `GRU`. Обратим внимание на `return_sequences=True`, `return_state=True` - мы требуем состояния кодера на каждом шаге работы. \n",
        "\n",
        "На вход принимает фразу для перевода и начальное состояние. Отдает выход GRU и вектор скрытых состояний"
      ]
    },
    {
      "cell_type": "code",
      "metadata": {
        "id": "TJwqiGRCDCu1"
      },
      "source": [
        "class Encoder(Model):\n",
        "\n",
        "  # Конструктор класса \n",
        "  def __init__(self, \n",
        "               vocab_size,    # Размер словаря\n",
        "               embedding_dim, # Размер пространсва эмбеддинга\n",
        "               enc_units,     # Число нейронов в GRU\n",
        "               batch_sz):     # Размер батча\n",
        "\n",
        "    super(Encoder, self).__init__()                                   # Даем возможность использовать и исполнять методы класса-родителя в классе потомке \n",
        "    self.batch_sz = batch_sz                                          # Атрибут возвращает размер батча\n",
        "    self.enc_units = enc_units                                        # Атрибут возвращает размер слоя в кодировщике\n",
        "    self.embedding = Embedding(vocab_size, embedding_dim)             # Атрибут эмбеддинга - слой Кераса с размером словаря на входе и с dim=256\n",
        "\n",
        "    # Реккурентной сетью выберем GRU, указываем размер слоя, вывод из слоя в виде последовательностей, \n",
        "    # и метод инициализации весов 'glorot_uniform'(или метод Ксавьера) для упрощения прохождения сигнала при распростр-ии ошибки\n",
        "    self.gru = GRU(self.enc_units, return_sequences=True, return_state=True, recurrent_initializer='glorot_uniform')\n",
        "\n",
        "  # Метод принимает входную фразу и начальное состояние\n",
        "  def call(self, \n",
        "           x,       # Входная фраза\n",
        "           hidden): # Начальное энкодера\n",
        "    x = self.embedding(x) # входящие тензоры преобразовываются в эмбеддинг\n",
        "    output, state = self.gru(x, initial_state = hidden) #затем пропускаются через GRU и получаем выход + новое состояние\n",
        "\n",
        "    # Выход сети GRU и состояние на выходе\n",
        "    return output, state \n",
        "\n",
        "  # Создаем метод инициализации состояний на скрытых слоях\n",
        "  def initialize_hidden_state(self):\n",
        "\n",
        "    # Вернем тензор из нулей размер батча на размер слоя, итсполбьзуем как начальное состояние энкодера\n",
        "    return tf.zeros((self.batch_sz, self.enc_units)) "
      ],
      "execution_count": null,
      "outputs": []
    },
    {
      "cell_type": "markdown",
      "metadata": {
        "id": "1BoTUmLPSsha"
      },
      "source": [
        "Создаем экземпляр класса Encoder. Используем далее как готовый модуль при построении модели сети"
      ]
    },
    {
      "cell_type": "code",
      "metadata": {
        "id": "BgR4bQIKDFXF"
      },
      "source": [
        "# Создадим модель кодировщика по уже заданным параметрам \n",
        "encoder = Encoder(vocab_inp_size, embedding_dim, units, BATCH_SIZE)"
      ],
      "execution_count": null,
      "outputs": []
    },
    {
      "cell_type": "code",
      "metadata": {
        "id": "eXH74Z-B_Mmb",
        "colab": {
          "base_uri": "https://localhost:8080/"
        },
        "outputId": "5ff9e2a3-c2e4-4d74-ccc3-3478207438aa"
      },
      "source": [
        "# Подадим в качестве примера какой-то сэмпл(Тензор[64, 12]) на вход Encoder'у и визуализируем, что получим\n",
        "sample_hidden = encoder.initialize_hidden_state() #инициализируем начальное скрытое состояние\n",
        "\n",
        "# Даем Encoder'у сэмпл и начальное состояние, и получим выход из сети GRU и состояние на выходе (вызывается метод call класса Encoder)\n",
        "sample_output, sample_hidden = encoder(example_input_batch, sample_hidden)\n",
        "print ('Размеры выхода из кодировщика: (batch size, sequence length, units) {}'.format(sample_output.shape))\n",
        "print ('Размеры скрытого состояния: (batch size, units) {}'.format(sample_hidden.shape))"
      ],
      "execution_count": null,
      "outputs": [
        {
          "output_type": "stream",
          "name": "stdout",
          "text": [
            "Размеры выхода из кодировщика: (batch size, sequence length, units) (256, 12, 1024)\n",
            "Размеры скрытого состояния: (batch size, units) (256, 1024)\n"
          ]
        }
      ]
    },
    {
      "cell_type": "markdown",
      "metadata": {
        "id": "xKRwq1d-S86R"
      },
      "source": [
        "Создадим класс модуля `attenton`, как предписывал Bahdanau. Разбор работы данного модуля мы прошли чуть ранее. На входе состояния кодера `hidden_state` и `values` - выход предыдущего декодера с предыдущего шага. На выходе вектор контекста и веса `attention`:"
      ]
    },
    {
      "cell_type": "code",
      "metadata": {
        "id": "VWDTK8eqDHu0"
      },
      "source": [
        "class BahdanauAttention(Model): # Название класса именем создателя механизма Дмитрия Богданова(Bahdanau)\n",
        "\n",
        "  # Создаем конструктор класса\n",
        "  def __init__(self, \n",
        "               units):                        # Число нейронов \n",
        "\n",
        "    super(BahdanauAttention, self).__init__() # Даем возможность использовать и исполнять методы класса-родителя в классе потомке\n",
        "    self.W1 = Dense(units)                    # Создаем Dense с заданным числом нейронов\n",
        "    self.W2 = Dense(units)                    # Создаем Dense с заданным числом нейронов\n",
        "    self.V =  Dense(1)                        # Создаем Dense с числом нейронов =1\n",
        "\n",
        "  # Метод принимает состояние и выход энкодера ----------------------------------\n",
        "  \n",
        "  def call(self, \n",
        "           hidden_state, # Состояние энкодера\n",
        "           values):      # Выход энкодера\n",
        "    # Форма состояния на скрытом слое (batch_size, hidden size)\n",
        "    # Форму состояния на каждом такте увеличим до (batch_size, 1, hidden size)\n",
        "    # Добавляем это для того, чтобы получить оценку\n",
        "    hidden_with_time_axis = tf.expand_dims(hidden_state, 1)\n",
        "\n",
        "    # Форма оценки score (размер батча, макс.длина слов на входе, 1), однёрка в конце, чтобы применить self.V\n",
        "    # До применения self.V оценка была бы (размер батча, макс.длина слов на входе, количество нейронов в слое)\n",
        "    score = self.V(tf.nn.tanh(self.W1(values) + self.W2(hidden_with_time_axis)))\n",
        "\n",
        "    # К полученной оценке применим Софтмакс, который покажет вероятность полезности от 0 до 1 для каждого слова в фразе для декодера\n",
        "    # Форма оценки score - (размер батча, макс.длина слов на входе, 1); Софтмакс применяем к оси \"макс.длина слов\"\n",
        "    attention_weights = tf.nn.softmax(score, axis=1)\n",
        "\n",
        "    # Построим вектор контекста \n",
        "    context_vector = attention_weights * values # Веса внимания перемножим со значениями(выхода из кодировщика)\n",
        "    # Сумму также применяем по оси \"макс.длина слов на входе\"\n",
        "    context_vector = tf.reduce_sum(context_vector, axis=1) # Размеры вектора контекста после суммирования будут (размер батча, размер слоя)\n",
        "\n",
        "    # Возвращает вектор контекста и веса внимания\n",
        "    return context_vector, attention_weights\n"
      ],
      "execution_count": null,
      "outputs": []
    },
    {
      "cell_type": "markdown",
      "metadata": {
        "id": "J8sMHv-wU_oD"
      },
      "source": [
        "Создадим экземпляр класса BahdanauAttention. Здесь 10 - число нейронов в первом dense слое"
      ]
    },
    {
      "cell_type": "code",
      "metadata": {
        "colab": {
          "base_uri": "https://localhost:8080/"
        },
        "id": "hUv-DSsDDKGl",
        "outputId": "8a3b2511-62c1-4d8e-8fe2-485fabf3391a"
      },
      "source": [
        "# Проверим, как работает слой\n",
        "attention_layer = BahdanauAttention(1024)\n",
        "\n",
        "# Подадим на вход слою внимания выход из Encodera и его состояние, и получим значение и веса внимания\n",
        "attention_result, attention_weights = attention_layer(sample_hidden, sample_output)\n",
        "\n",
        "print(\"Размеры значения внимания: (размер батча, размер слоя) {}\".format(attention_result.shape))\n",
        "print(\"Размеры весов внимания: (размер батча, длина последовательности, 1) {}\".format(attention_weights.shape))"
      ],
      "execution_count": null,
      "outputs": [
        {
          "output_type": "stream",
          "name": "stdout",
          "text": [
            "Размеры значения внимания: (размер батча, размер слоя) (256, 1024)\n",
            "Размеры весов внимания: (размер батча, длина последовательности, 1) (256, 12, 1)\n"
          ]
        }
      ]
    },
    {
      "cell_type": "markdown",
      "metadata": {
        "id": "zK4api1fVM3N"
      },
      "source": [
        "Создаем класс декодера с attention. Декодер принимает обущающую фразу, прогоняет через embedding. Далее склеивает с вектором контента и подает на GRU.\n",
        "На выходе dense слой с числом нейронов равному размеру словаря."
      ]
    },
    {
      "cell_type": "code",
      "metadata": {
        "id": "gZHTEgDoDNBC"
      },
      "source": [
        "class Decoder(Model):\n",
        "\n",
        "  # Создадим конструктор класса\n",
        "  def __init__(self,   \n",
        "               vocab_size,    # Размер словаря\n",
        "               embedding_dim, # Размерность пространства эмбеддинга\n",
        "               dec_units,     # Число нейронов в GRU\n",
        "               batch_sz):     # Размер батча\n",
        "    super(Decoder, self).__init__()                       # Даем возможность использовать и исполнять методы класса-родителя в классе потомке \n",
        "    self.batch_sz = batch_sz                              # Атрибут возвращает размер батча\n",
        "    self.dec_units = dec_units                            # Атрибут возвращает размер слоя в декодере(кол-во нейронов)\n",
        "    self.embedding = Embedding(vocab_size, embedding_dim) # Атрибут эмбеддинга - слой Кераса с размером словаря на входе и (dim=256) на выходе\n",
        "\n",
        "    # Реккурентной сетью выберем GRU, указываем размер слоя, вывод из слоя в виде последовательностей, \n",
        "    # и метод инициализации весов 'glorot_uniform'(или метод Ксавьера) для упрощения прохождения сигнала при распростр-ии ошибки    \n",
        "    self.gru = GRU(self.dec_units, return_sequences=True, return_state=True, recurrent_initializer='glorot_uniform')\n",
        "\n",
        "    self.fc = Dense(vocab_size) # Атрибут вызовет полносвязный слой с размером словаря\n",
        "\n",
        "    self.attention = BahdanauAttention(self.dec_units) #атрибут подключит механизм внимания, описанный ранее\n",
        "\n",
        "\n",
        "  def call(self, \n",
        "           x,           # Начальный токен\n",
        "           hidden,      # Состояние  энкодера\n",
        "           enc_output): # Выход энкодера\n",
        "\n",
        "    # Enc_output размеры (batch_size, max_length, hidden_size - размер батча, макс.длина фраз, разм.скр.слоя)\n",
        "    context_vector, attention_weights = self.attention(hidden, enc_output)\n",
        "\n",
        "    # Входящий тензор слова пропускаем через эмбеддинг (получаем размеры batch_size, 1, embedding_dim)\n",
        "    x = self.embedding(x)\n",
        "\n",
        "    # Дальше конкатенируем с вектором контекста (получаем размеры batch_size, 1, embedding_dim + hidden_size)\n",
        "    x = tf.concat([tf.expand_dims(context_vector, 1), x], axis=-1)\n",
        "\n",
        "    # Сконкатенированный вектор передаем  в GRU и получаем выход с декодера и состояние\n",
        "    output, state = self.gru(x)\n",
        "\n",
        "    # Output размеры (batch_size * 1, hidden_size)\n",
        "    output = tf.reshape(output, (-1, output.shape[2]))\n",
        "\n",
        "    # Пропускаем через полносвязный слой\n",
        "    x = self.fc(output) #output размеры (batch_size, vocab)\n",
        "\n",
        "    # Вернем выходную фразу, вектор состояния, веса внимания\n",
        "    return x, state, attention_weights"
      ],
      "execution_count": null,
      "outputs": []
    },
    {
      "cell_type": "code",
      "metadata": {
        "colab": {
          "base_uri": "https://localhost:8080/"
        },
        "id": "-b1yEPu3DPqp",
        "outputId": "7bb624c6-2604-4d4c-950a-4dc2ff530664"
      },
      "source": [
        "# Проверим работу декодера, подав на вход случайный массив с нужной размерностью\n",
        "# Создали декодер с параметрами(размер анг.словаря, размерность эмбеддинга, кол-во нейронов, размер батча)\n",
        "decoder = Decoder(vocab_tar_size, embedding_dim, units, BATCH_SIZE)\n",
        "\n",
        "# Подаём на вход случайный массив с нужной размерностью, состояние и выход с кодировщика\n",
        "sample_decoder_output, _, _ = decoder(tf.random.uniform((BATCH_SIZE, 1)), sample_hidden, sample_output)\n",
        "print ('Размер выхода с декодера: (размер батча, размер словаря) {}'.format(sample_decoder_output.shape))"
      ],
      "execution_count": null,
      "outputs": [
        {
          "output_type": "stream",
          "name": "stdout",
          "text": [
            "Размер выхода с декодера: (размер батча, размер словаря) (256, 5830)\n"
          ]
        }
      ]
    },
    {
      "cell_type": "code",
      "metadata": {
        "id": "1h7uiC6LDVRK"
      },
      "source": [
        "# Выбираем оптимайзер Adam\n",
        "optimizer = Adam() "
      ],
      "execution_count": null,
      "outputs": []
    },
    {
      "cell_type": "markdown",
      "metadata": {
        "id": "1qw4cgWJlDgW"
      },
      "source": [
        "Наша функция потерь называется  `loss_function` - сначала она уберет из расчетов нулевые элементы в истинной и предсказанной фразе. \n",
        "\n",
        "Длина фразы может быть меньше максимально допустимой или фраза может быть сформирована не полностью. Просто не будем учитывать мусор в конце фразы.\n",
        "\n",
        "Далее применим стандартную для Kerasa функцию потерь  SparseCategoricalCrossentropy. По сравнению CategoricalCrossentropy работает также, но позволяет нам не хранить слова в виде OneHotEncoding, что существенно экономить память.\n",
        "\n",
        "На выходе получаем среднее значение потерь:"
      ]
    },
    {
      "cell_type": "code",
      "metadata": {
        "id": "7YVxy08qDR-5"
      },
      "source": [
        "# Используем SparseCategoricalCrossentropy, к-я может работать с некатегориальными лейблами\n",
        "loss_object = SparseCategoricalCrossentropy(from_logits=True, reduction='none') # Выбираем функцию потерь\n",
        "\n",
        "def loss_function(real, pred):                       # Запишем функцию потерь, на вход подаем фактический и предсказанный результат\n",
        "  mask = tf.math.logical_not(tf.math.equal(real, 0)) # Найдем маску, которая уберет нулевые значения индексов в конце фразы\n",
        "  loss_ = loss_object(real, pred)                    # Фактические и предсказанные результаты передаем в SparseCategoricalCrossentropy и получаем ошибку\n",
        "  mask = tf.cast(mask, dtype=loss_.dtype)            # Согласуем тип маски с типом потерь\n",
        "  loss_ *= mask                                      # Накидываем \"маску\" которая оставит для работы ненулевые значения\n",
        "  \n",
        "  # Вернем reduce_mean - среднее любого выбранного тензора\n",
        "  return tf.reduce_mean(loss_)"
      ],
      "execution_count": null,
      "outputs": []
    },
    {
      "cell_type": "code",
      "metadata": {
        "id": "qHr21E05q0NN"
      },
      "source": [
        "# Сохраняем процесс обучения модели чекпоинтами тензорфлоу\n",
        "\n",
        "checkpoint_dir = './training_checkpoints'                                               # Даем ссылку на директорию\n",
        "checkpoint_prefix = os.path.join(checkpoint_dir, \"ckpt\")                                # Добавляем префикс \"ckpt\"\n",
        "checkpoint = tf.train.Checkpoint(optimizer=optimizer, encoder=encoder, decoder=decoder) # Сохраняем состояния/показатели оптимизатора и моделей"
      ],
      "execution_count": null,
      "outputs": []
    },
    {
      "cell_type": "markdown",
      "metadata": {
        "id": "SFb7r1SjYf7i"
      },
      "source": [
        "Создадим функцию для обучения модели. На входе - исходная фраза, конечная фраза, начальное состояния кодера. Подаем сразу батчем. На выходе потери на этом батче"
      ]
    },
    {
      "cell_type": "code",
      "metadata": {
        "id": "YCNvA66Jq7nE"
      },
      "source": [
        "@tf.function\n",
        "def train_step(inp,         # Входная фраза\n",
        "               targ,        # Точный перевод\n",
        "               enc_hidden): # Состояния энкодера\n",
        "\n",
        "  # Создаем переменную, в которую будем записывать ошибку\n",
        "  loss = 0                             \n",
        "\n",
        "  # Все операции по вычислению градиента записываются на ленту(tape) и мы получаем к ним доступ\n",
        "  with tf.GradientTape() as tape:\n",
        "\n",
        "    # Передаем тензор и начальное состояние в кодировщик и получим выход и состояние на выходе\n",
        "    enc_output, enc_hidden = encoder(inp, enc_hidden)\n",
        "\n",
        "    # Передадим это состояние декодеру\n",
        "    dec_hidden = enc_hidden\n",
        "\n",
        "    # Передаем в качестве входа в декодер индекс токена \"<start>\"\n",
        "    dec_input = tf.expand_dims([targ_language_tokenizer.word_index['<start>']] * BATCH_SIZE, 1)\n",
        "\n",
        "    # Техника \"Teacher forcing\" - подаем предыдущее выходное слово на вход следущего в декодере. Targ.shape[64, 9]\n",
        "\n",
        "    for t in range(1, targ.shape[1]): #для каждого слова из английской фразы\n",
        "\n",
        "      # Передаем в обработку декодеру начальный токен, состояние на выходе из кодера, и выход из кодера\n",
        "      predictions, dec_hidden, _ = decoder(dec_input, dec_hidden, enc_output) # Получаем от декодера предсказание и обновленное состояние\n",
        "\n",
        "      # Обновляем ошибку для текущих предсказаний\n",
        "      loss += loss_function(targ[:, t], predictions)\n",
        "\n",
        "      # Используем \"Teacher forcing\"\n",
        "      dec_input = tf.expand_dims(targ[:, t], 1)\n",
        "\n",
        "  # Получаем ошибку на батче . Targ.shape[64, 9]. Делим на 9\n",
        "  batch_loss = (loss / int(targ.shape[1])) \n",
        "\n",
        "  # Создаем список переменных, для которых TensorFlow будет вычислять градиенты\n",
        "  variables = encoder.trainable_variables + decoder.trainable_variables # создаем переменные, для которых TensorFlow будет вычислять градиенты\n",
        "\n",
        "  # Отслеживаем градиент\n",
        "  gradients = tape.gradient(loss, variables)\n",
        "\n",
        "  # Корректируем веса\n",
        "  optimizer.apply_gradients(zip(gradients, variables))\n",
        "\n",
        "  # Функция обучения вернет ошибку на батче\n",
        "  return batch_loss"
      ],
      "execution_count": null,
      "outputs": []
    },
    {
      "cell_type": "markdown",
      "metadata": {
        "id": "8GwOr3sEYiW_"
      },
      "source": [
        "Обучаем сеть. 30 эпох. На каждой эпохе прогоняем весь набор данных через функцию обучения. Считаем лоссы. Сохраняем статистику каждые 10 эпох"
      ]
    },
    {
      "cell_type": "code",
      "metadata": {
        "colab": {
          "base_uri": "https://localhost:8080/"
        },
        "id": "93Tpy6Cxq-V3",
        "outputId": "9cf0bb73-957b-4931-cb36-bba395b8770b"
      },
      "source": [
        "EPOCHS = 30 # устанавливаем количество эпох\n",
        "\n",
        "for epoch in range(EPOCHS): # Цикл по каждой эпохе\n",
        "  start = time.time() # Запомним время начала эпохи\n",
        "\n",
        "  progbar = tf.keras.utils.Progbar(target=steps_per_epoch, stateful_metrics=[\n",
        "                                     'batch_loss'], unit_name='batch')        # Создадим индикатор прогресс обучения\n",
        "\n",
        "  enc_hidden = encoder.initialize_hidden_state() # Задаем начальное состояние на скрытом слое encodera \n",
        "  total_loss = 0                                 # Начальное значение итоговой ошибки\n",
        "\n",
        "  # Для батча, входного и выходного тензора на каждом шаге эпохи\n",
        "  for (batch, (inp, targ)) in enumerate(dataset.take(steps_per_epoch)):\n",
        "    batch_loss = train_step(inp, targ, enc_hidden) # Передадим в функцию тензоры и состояние в кодировщике, обучим и получим ошибку на батче\n",
        "    total_loss += batch_loss                       # Добавим ее в итоговую ошибку\n",
        "    progbar.update(                                # Обновим состояние индикатора обучения\n",
        "            batch + 1, values=[('batch_loss', batch_loss)])\n",
        "\n",
        "\n",
        "  # Каждые 10 эпох будем сохранять чекпоинты\n",
        "  if (epoch + 1) % 10 == 0:\n",
        "    checkpoint.save(file_prefix = checkpoint_prefix)\n",
        "\n",
        "  # Выведем показатели после каждой эпохи\n",
        "  print('Эпоха {} Ошибка {:.4f}'.format(epoch + 1, total_loss / steps_per_epoch)) # Выведем номер эпохи и потери\n",
        "  print('Время на 1 эпоху {} сек'.format(round(time.time() - start), 1))          # Выведем длительность обучения этой эпохи"
      ],
      "execution_count": null,
      "outputs": [
        {
          "output_type": "stream",
          "name": "stdout",
          "text": [
            "24/24 [==============================] - 19s 188ms/batch - batch_loss: 1.7869\n",
            "Эпоха 1 Ошибка 2.0292\n",
            "Время на 1 эпоху 19 сек\n",
            "24/24 [==============================] - 4s 193ms/batch - batch_loss: 1.7841\n",
            "Эпоха 2 Ошибка 1.7179\n",
            "Время на 1 эпоху 5 сек\n",
            "24/24 [==============================] - 4s 190ms/batch - batch_loss: 1.6286\n",
            "Эпоха 3 Ошибка 1.6432\n",
            "Время на 1 эпоху 5 сек\n",
            "24/24 [==============================] - 5s 196ms/batch - batch_loss: 1.5909\n",
            "Эпоха 4 Ошибка 1.6012\n",
            "Время на 1 эпоху 5 сек\n",
            "24/24 [==============================] - 5s 193ms/batch - batch_loss: 1.6278\n",
            "Эпоха 5 Ошибка 1.5642\n",
            "Время на 1 эпоху 5 сек\n",
            "24/24 [==============================] - 5s 194ms/batch - batch_loss: 1.5646\n",
            "Эпоха 6 Ошибка 1.5400\n",
            "Время на 1 эпоху 5 сек\n",
            "24/24 [==============================] - 5s 196ms/batch - batch_loss: 1.4577\n",
            "Эпоха 7 Ошибка 1.5099\n",
            "Время на 1 эпоху 5 сек\n",
            "24/24 [==============================] - 5s 197ms/batch - batch_loss: 1.4689\n",
            "Эпоха 8 Ошибка 1.4834\n",
            "Время на 1 эпоху 5 сек\n",
            "24/24 [==============================] - 5s 199ms/batch - batch_loss: 1.5034\n",
            "Эпоха 9 Ошибка 1.4583\n",
            "Время на 1 эпоху 5 сек\n",
            "24/24 [==============================] - 5s 200ms/batch - batch_loss: 1.5572\n",
            "Эпоха 10 Ошибка 1.4322\n",
            "Время на 1 эпоху 5 сек\n",
            "24/24 [==============================] - 5s 201ms/batch - batch_loss: 1.4784\n",
            "Эпоха 11 Ошибка 1.4049\n",
            "Время на 1 эпоху 5 сек\n",
            "24/24 [==============================] - 5s 204ms/batch - batch_loss: 1.4494\n",
            "Эпоха 12 Ошибка 1.3840\n",
            "Время на 1 эпоху 5 сек\n",
            "24/24 [==============================] - 5s 203ms/batch - batch_loss: 1.3690\n",
            "Эпоха 13 Ошибка 1.3582\n",
            "Время на 1 эпоху 5 сек\n",
            "24/24 [==============================] - 5s 206ms/batch - batch_loss: 1.3598\n",
            "Эпоха 14 Ошибка 1.3331\n",
            "Время на 1 эпоху 5 сек\n",
            "24/24 [==============================] - 5s 197ms/batch - batch_loss: 1.3166\n",
            "Эпоха 15 Ошибка 1.3129\n",
            "Время на 1 эпоху 5 сек\n",
            "24/24 [==============================] - 5s 203ms/batch - batch_loss: 1.2907\n",
            "Эпоха 16 Ошибка 1.2884\n",
            "Время на 1 эпоху 5 сек\n",
            "24/24 [==============================] - 5s 199ms/batch - batch_loss: 1.3151\n",
            "Эпоха 17 Ошибка 1.2613\n",
            "Время на 1 эпоху 5 сек\n",
            "24/24 [==============================] - 5s 198ms/batch - batch_loss: 1.2021\n",
            "Эпоха 18 Ошибка 1.2301\n",
            "Время на 1 эпоху 5 сек\n",
            "24/24 [==============================] - 5s 197ms/batch - batch_loss: 1.2946\n",
            "Эпоха 19 Ошибка 1.1977\n",
            "Время на 1 эпоху 5 сек\n",
            "24/24 [==============================] - 5s 198ms/batch - batch_loss: 1.2153\n",
            "Эпоха 20 Ошибка 1.1673\n",
            "Время на 1 эпоху 5 сек\n",
            "24/24 [==============================] - 5s 200ms/batch - batch_loss: 1.2288\n",
            "Эпоха 21 Ошибка 1.1300\n",
            "Время на 1 эпоху 5 сек\n",
            "24/24 [==============================] - 5s 197ms/batch - batch_loss: 1.0362\n",
            "Эпоха 22 Ошибка 1.0963\n",
            "Время на 1 эпоху 5 сек\n",
            "24/24 [==============================] - 5s 200ms/batch - batch_loss: 1.1735\n",
            "Эпоха 23 Ошибка 1.0628\n",
            "Время на 1 эпоху 5 сек\n",
            "24/24 [==============================] - 5s 197ms/batch - batch_loss: 1.1817\n",
            "Эпоха 24 Ошибка 1.0315\n",
            "Время на 1 эпоху 5 сек\n",
            "24/24 [==============================] - 5s 196ms/batch - batch_loss: 1.0465\n",
            "Эпоха 25 Ошибка 0.9967\n",
            "Время на 1 эпоху 5 сек\n",
            "24/24 [==============================] - 5s 198ms/batch - batch_loss: 0.9598\n",
            "Эпоха 26 Ошибка 0.9539\n",
            "Время на 1 эпоху 5 сек\n",
            "24/24 [==============================] - 5s 193ms/batch - batch_loss: 0.9724\n",
            "Эпоха 27 Ошибка 0.9077\n",
            "Время на 1 эпоху 5 сек\n",
            "24/24 [==============================] - 5s 198ms/batch - batch_loss: 0.9623\n",
            "Эпоха 28 Ошибка 0.8719\n",
            "Время на 1 эпоху 5 сек\n",
            "24/24 [==============================] - 5s 194ms/batch - batch_loss: 0.9292\n",
            "Эпоха 29 Ошибка 0.8347\n",
            "Время на 1 эпоху 5 сек\n",
            "24/24 [==============================] - 5s 205ms/batch - batch_loss: 0.8991\n",
            "Эпоха 30 Ошибка 0.7945\n",
            "Время на 1 эпоху 5 сек\n"
          ]
        }
      ]
    },
    {
      "cell_type": "markdown",
      "metadata": {
        "id": "LzCVG3YhYj0O"
      },
      "source": [
        "Данная функция собирает модель кодера, декодера и attention для работы в режиме перевода (предсказания).\n",
        "\n",
        "На входе вопрос, на выходе ответ"
      ]
    },
    {
      "cell_type": "code",
      "metadata": {
        "id": "rX4koS1irAnJ"
      },
      "source": [
        "def evaluate(sentence):\n",
        "\n",
        "    # Создаем начальные настройки графика внимания\n",
        "    attention_plot = np.zeros((max_length_targ, max_length_inp)) \n",
        "    \n",
        "    # Предобрабатываем предложение\n",
        "    sentence = preprocess_sentence(sentence) \n",
        "\n",
        "    inputs = [inp_language_tokenizer.word_index[i] for i in sentence.split(' ')]   # Преобразовываем в послед-ть индексов\n",
        "    inputs = pad_sequences([inputs], maxlen=max_length_inp, padding='post')        # Делаем паддинг\n",
        "    inputs = tf.convert_to_tensor(inputs)                                          # Конвертируем в тф тензор\n",
        "\n",
        "    result = ''                                                                    # Сюда запишем результат\n",
        "\n",
        "    hidden = [tf.zeros((1, units))]                                                # Задаем начальное состояние\n",
        "    enc_out, enc_hidden = encoder(inputs, hidden)                                  # Передаем его и входной тензор и получаем выход с кодера и состояние\n",
        "\n",
        "    dec_hidden = enc_hidden                                                        # Состояние кодера передаем в декодер\n",
        "    dec_input = tf.expand_dims([targ_language_tokenizer.word_index['<start>']], 0) # Передаем на вход декодеру <start> в виде индекса\n",
        "\n",
        "    for t in range(max_length_targ):                                               # Идем по макс.длине фраз выходного языка(анг)\n",
        "        # Прогоняем через декодер входящий тензор, состояние с выхода кодера, выход с кодера\n",
        "        # Получаем результат предсказания, обновленное состояние, и веса внимания\n",
        "        predictions, dec_hidden, attention_weights = decoder(dec_input, dec_hidden, enc_out)\n",
        "\n",
        "        # Сохраняем веса внимания для графика\n",
        "        attention_weights = tf.reshape(attention_weights, (-1, ))\n",
        "        attention_plot[t] = attention_weights.numpy()\n",
        "\n",
        "        # Аргмаксом вытаскиваем предсказанное слово\n",
        "        predicted_id = tf.argmax(predictions[0]).numpy()\n",
        "\n",
        "        # Результат конвертируем из индекса в слово и сохраняем в result = ''\n",
        "        result += targ_language_tokenizer.index_word[predicted_id] + ' '\n",
        "\n",
        "        # Если предсказанное слово - <end>, то останавливаемся, возвращаем результаты, выводим на графике\n",
        "        if targ_language_tokenizer.index_word[predicted_id] == '<end>':\n",
        "            return result, sentence, attention_plot\n",
        "\n",
        "        # Педсказанное значение подается обратно в модель\n",
        "        dec_input = tf.expand_dims([predicted_id], 0)\n",
        "\n",
        "    # Вернем перевод, входную фразу и веса внимания\n",
        "    return result, sentence, attention_plot"
      ],
      "execution_count": null,
      "outputs": []
    },
    {
      "cell_type": "code",
      "metadata": {
        "id": "It8ZVMbHrFYj"
      },
      "source": [
        "def plot_attention(attention,           # Веса внимания\n",
        "                   sentence,            # Исходная фраза\n",
        "                   predicted_sentence): # Предсказаные перевод\n",
        "  \n",
        "    fig = plt.figure(figsize=(10,10))                                   # Зададим размер \n",
        "    ax = fig.add_subplot(1, 1, 1)                                       # Добавим 1 картинку\n",
        "    ax.matshow(attention, cmap='viridis')                               # Нарисуем 2d матрицу\n",
        "    fontdict = {'fontsize': 14}                                         # Зададим размер надписей\n",
        "    ax.set_xticklabels([''] + sentence, fontdict=fontdict, rotation=90) # Добавим надпись по горизонтальной оси\n",
        "    ax.set_yticklabels([''] + predicted_sentence, fontdict=fontdict)    # Добавим надпись по вертикальной оси\n",
        "    ax.xaxis.set_major_locator(ticker.MultipleLocator(1))               # Зададим форматирование делений на осях графиков\n",
        "    ax.yaxis.set_major_locator(ticker.MultipleLocator(1))               # Зададим форматирование делений на осях графиков\n",
        "    plt.show()                                                          # Отрисуем изображение"
      ],
      "execution_count": null,
      "outputs": []
    },
    {
      "cell_type": "markdown",
      "metadata": {
        "id": "FXrttZ_Ccd--"
      },
      "source": [
        "Соберем написанные ранее функции вместе. Будем переводить фразы и строить матрицы внимания(attention)  - смотреть связи слов в предложении"
      ]
    },
    {
      "cell_type": "markdown",
      "metadata": {
        "id": "7afFCab-N_Xf"
      },
      "source": [
        "Создадим функцию для ответа с визуализацией матрицы внимания"
      ]
    },
    {
      "cell_type": "code",
      "metadata": {
        "id": "KH8G96tWrHmn"
      },
      "source": [
        "def response_chat(sentence): # Функция принимает предложение и выводит результат с визуализацией\n",
        "    result, sentence, attention_plot = evaluate(sentence)  # Отдадим фразу. Получим перевод, входную фразу,  веса внимания\n",
        "\n",
        "    print('Входящая фраза: %s' % (sentence))          # Выведем входную фразу \n",
        "    print('Предсказанный перевод: {}'.format(result)) # Выведем полученный перевод\n",
        "\n",
        "    attention_plot = attention_plot[:len(result.split(' ')), :len(sentence.split(' '))] # Возьмем весы внимания, только для слов во фразах. Хвосты не смотрим\n",
        "    plot_attention(attention_plot, sentence.split(' '), result.split(' '))              # Выведем веса внимания"
      ],
      "execution_count": null,
      "outputs": []
    },
    {
      "cell_type": "code",
      "metadata": {
        "colab": {
          "base_uri": "https://localhost:8080/"
        },
        "id": "3vsbPAP5rJle",
        "outputId": "9aeafd43-d5e3-4df7-e7df-c1e94822be1d"
      },
      "source": [
        "# Воспроизведём последний сохранённый чекпоинт\n",
        "checkpoint.restore(tf.train.latest_checkpoint(checkpoint_dir))"
      ],
      "execution_count": null,
      "outputs": [
        {
          "output_type": "execute_result",
          "data": {
            "text/plain": [
              "<tensorflow.python.training.tracking.util.CheckpointLoadStatus at 0x7ff16f43b210>"
            ]
          },
          "metadata": {},
          "execution_count": 107
        }
      ]
    },
    {
      "cell_type": "code",
      "metadata": {
        "colab": {
          "base_uri": "https://localhost:8080/",
          "height": 676
        },
        "id": "bBi0SqkJrMeK",
        "outputId": "0976e54a-ae2e-4cf0-9662-742e8c43ba50"
      },
      "source": [
        "response_chat('что делать будем')"
      ],
      "execution_count": null,
      "outputs": [
        {
          "output_type": "stream",
          "name": "stdout",
          "text": [
            "Входящая фраза: <start> что делать будем <end>\n",
            "Предсказанный перевод: а мы не знаю <end> \n"
          ]
        },
        {
          "output_type": "display_data",
          "data": {
            "text/plain": [
              "<Figure size 720x720 with 1 Axes>"
            ],
            "image/png": "[encoded data removed]"
          },
          "metadata": {
            "needs_background": "light"
          }
        }
      ]
    },
    {
      "cell_type": "code",
      "metadata": {
        "colab": {
          "base_uri": "https://localhost:8080/",
          "height": 412
        },
        "id": "X2VVb9LHrOv8",
        "outputId": "7a20e536-57bd-47e9-d6c1-7f448eea1117"
      },
      "source": [
        "response_chat('у тебя все хорошо')"
      ],
      "execution_count": null,
      "outputs": [
        {
          "output_type": "stream",
          "name": "stdout",
          "text": [
            "Входящая фраза: <start> у тебя все хорошо <end>\n",
            "Предсказанный перевод: да <end> \n"
          ]
        },
        {
          "output_type": "display_data",
          "data": {
            "text/plain": [
              "<Figure size 720x720 with 1 Axes>"
            ],
            "image/png": "[encoded data removed]"
          },
          "metadata": {
            "needs_background": "light"
          }
        }
      ]
    },
    {
      "cell_type": "code",
      "metadata": {
        "colab": {
          "base_uri": "https://localhost:8080/",
          "height": 598
        },
        "id": "uWC8-1DDrPQ1",
        "outputId": "d611c222-2672-445e-ff75-549a61c6d388"
      },
      "source": [
        "response_chat('а как насчет тебя')"
      ],
      "execution_count": null,
      "outputs": [
        {
          "output_type": "stream",
          "name": "stdout",
          "text": [
            "Входящая фраза: <start> а как насчет тебя <end>\n",
            "Предсказанный перевод: это я нашел <end> \n"
          ]
        },
        {
          "output_type": "display_data",
          "data": {
            "text/plain": [
              "<Figure size 720x720 with 1 Axes>"
            ],
            "image/png": "[encoded data removed]"
          },
          "metadata": {
            "needs_background": "light"
          }
        }
      ]
    },
    {
      "cell_type": "code",
      "source": [
        "response_chat('пойдем гулять')"
      ],
      "metadata": {
        "colab": {
          "base_uri": "https://localhost:8080/",
          "height": 676
        },
        "id": "KER218GUkAWw",
        "outputId": "9cd5828a-70b0-4573-9133-ae3c4e4e1615"
      },
      "execution_count": null,
      "outputs": [
        {
          "output_type": "stream",
          "name": "stdout",
          "text": [
            "Входящая фраза: <start> пойдем гулять <end>\n",
            "Предсказанный перевод: не твое дело <end> \n"
          ]
        },
        {
          "output_type": "display_data",
          "data": {
            "text/plain": [
              "<Figure size 720x720 with 1 Axes>"
            ],
            "image/png": "[encoded data removed]"
          },
          "metadata": {
            "needs_background": "light"
          }
        }
      ]
    },
    {
      "cell_type": "code",
      "source": [
        "response_chat('нужно купить хлеб')"
      ],
      "metadata": {
        "colab": {
          "base_uri": "https://localhost:8080/",
          "height": 676
        },
        "id": "CNpnIHkLkhqt",
        "outputId": "8e3792d0-0da5-4de5-b140-9d2d01af6aa3"
      },
      "execution_count": null,
      "outputs": [
        {
          "output_type": "stream",
          "name": "stdout",
          "text": [
            "Входящая фраза: <start> нужно купить хлеб <end>\n",
            "Предсказанный перевод: в каком смысле <end> \n"
          ]
        },
        {
          "output_type": "display_data",
          "data": {
            "text/plain": [
              "<Figure size 720x720 with 1 Axes>"
            ],
            "image/png": "[encoded data removed]"
          },
          "metadata": {
            "needs_background": "light"
          }
        }
      ]
    },
    {
      "cell_type": "markdown",
      "metadata": {
        "id": "sahW4uQD51Rv"
      },
      "source": [
        "### модель с attention более распространенно и интересно отвечает"
      ]
    }
  ]
}